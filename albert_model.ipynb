{
  "nbformat": 4,
  "nbformat_minor": 0,
  "metadata": {
    "kernelspec": {
      "display_name": "Python 3",
      "language": "python",
      "name": "python3"
    },
    "language_info": {
      "codemirror_mode": {
        "name": "ipython",
        "version": 3
      },
      "file_extension": ".py",
      "mimetype": "text/x-python",
      "name": "python",
      "nbconvert_exporter": "python",
      "pygments_lexer": "ipython3",
      "version": "3.7.6"
    },
    "papermill": {
      "duration": 17281.753291,
      "end_time": "2020-11-06T14:52:30.322266",
      "environment_variables": {},
      "exception": null,
      "input_path": "__notebook__.ipynb",
      "output_path": "__notebook__.ipynb",
      "parameters": {},
      "start_time": "2020-11-06T10:04:28.568975",
      "version": "2.1.0"
    },
    "colab": {
      "name": "albert-model.ipynb",
      "provenance": [],
      "collapsed_sections": [
        "lHoqYJ3aXUln",
        "LF_-831Jtrj1",
        "Q7pt-8TKtva9",
        "hngvutBoxSqc",
        "RgHByWsy1r_f",
        "wklVbR5ek4E8",
        "OB9r1YKU6rzo",
        "g810P-fa62Yk",
        "PnU6Yl_8OBEg",
        "bYMtjin_Rb2I",
        "cd-ombgDeb3o",
        "yW5e6-eXfW1_"
      ],
      "include_colab_link": true
    }
  },
  "cells": [
    {
      "cell_type": "markdown",
      "metadata": {
        "id": "view-in-github",
        "colab_type": "text"
      },
      "source": [
        "<a href=\"https://colab.research.google.com/github/sauravsingla/Transformer-Based-Pre-Trained-NLP-Models/blob/main/albert_model.ipynb\" target=\"_parent\"><img src=\"https://colab.research.google.com/assets/colab-badge.svg\" alt=\"Open In Colab\"/></a>"
      ]
    },
    {
      "cell_type": "code",
      "metadata": {
        "execution": {
          "iopub.execute_input": "2020-11-06T10:04:32.802599Z",
          "iopub.status.busy": "2020-11-06T10:04:32.792231Z",
          "iopub.status.idle": "2020-11-06T10:04:42.308447Z",
          "shell.execute_reply": "2020-11-06T10:04:42.307823Z"
        },
        "id": "D4C411Q_0Zx2",
        "papermill": {
          "duration": 9.585587,
          "end_time": "2020-11-06T10:04:42.308572",
          "exception": false,
          "start_time": "2020-11-06T10:04:32.722985",
          "status": "completed"
        },
        "tags": [],
        "outputId": "950f8cd3-1511-4aa8-f0e9-29b14f60f3f1"
      },
      "source": [
        "# import required libraries\n",
        "import pandas as pd\n",
        "import numpy as np\n",
        "import seaborn as sns\n",
        "import re\n",
        "import matplotlib.pyplot as plt\n",
        "from collections import defaultdict\n",
        "\n",
        "from sklearn.model_selection import train_test_split\n",
        "from sklearn.preprocessing import LabelEncoder,label_binarize\n",
        "from sklearn.metrics import confusion_matrix,classification_report\n",
        "from sklearn.metrics import precision_recall_curve,roc_auc_score,roc_curve\n",
        "\n",
        "from keras.preprocessing.sequence import pad_sequences\n",
        "\n",
        "from imblearn.over_sampling import SMOTE\n",
        "\n",
        "import transformers\n",
        "from transformers import XLNetConfig, XLNetModel, XLNetTokenizer,XLNetForSequenceClassification\n",
        "from transformers import AlbertConfig, AlbertModel, AlbertTokenizer,AutoTokenizer\n",
        "from transformers import RobertaConfig, RobertaModel, RobertaTokenizer\n",
        "from transformers import AdamW, AdamWeightDecay, get_linear_schedule_with_warmup\n",
        "\n",
        "import torch\n",
        "from torch import optim, nn\n",
        "from torch.utils.data import DataLoader, Dataset\n",
        "import torch.nn.functional as F \n",
        "\n",
        "%config InlineBackend.figure_format='retina'\n",
        "%matplotlib inline\n",
        "\n",
        "sns.set(style='whitegrid')\n",
        "\n",
        "import warnings\n",
        "warnings.filterwarnings('ignore')\n",
        "\n",
        "seed=42\n",
        "np.random.seed(seed)\n",
        "torch.manual_seed(seed)"
      ],
      "execution_count": null,
      "outputs": [
        {
          "output_type": "stream",
          "text": [
            "\u001b[34m\u001b[1mwandb\u001b[0m: \u001b[33mWARNING\u001b[0m W&B installed but not logged in.  Run `wandb login` or set the WANDB_API_KEY env variable.\n"
          ],
          "name": "stderr"
        },
        {
          "output_type": "execute_result",
          "data": {
            "text/plain": [
              "<torch._C.Generator at 0x7ff2b645a350>"
            ]
          },
          "metadata": {
            "tags": []
          },
          "execution_count": 1
        }
      ]
    },
    {
      "cell_type": "code",
      "metadata": {
        "execution": {
          "iopub.execute_input": "2020-11-06T10:04:42.434060Z",
          "iopub.status.busy": "2020-11-06T10:04:42.432420Z",
          "iopub.status.idle": "2020-11-06T10:04:42.436704Z",
          "shell.execute_reply": "2020-11-06T10:04:42.437796Z"
        },
        "id": "lSuDZ8ClkDGh",
        "papermill": {
          "duration": 0.070367,
          "end_time": "2020-11-06T10:04:42.437935",
          "exception": false,
          "start_time": "2020-11-06T10:04:42.367568",
          "status": "completed"
        },
        "tags": [],
        "outputId": "b759b758-faf0-4ae9-88f0-aabd99ebb5aa"
      },
      "source": [
        "device=torch.device('cuda:0')\n",
        "torch.cuda.get_device_name(0)"
      ],
      "execution_count": null,
      "outputs": [
        {
          "output_type": "execute_result",
          "data": {
            "text/plain": [
              "'Tesla P100-PCIE-16GB'"
            ]
          },
          "metadata": {
            "tags": []
          },
          "execution_count": 2
        }
      ]
    },
    {
      "cell_type": "markdown",
      "metadata": {
        "id": "aTgmiAIR0GJ4",
        "papermill": {
          "duration": 0.059789,
          "end_time": "2020-11-06T10:04:42.557846",
          "exception": false,
          "start_time": "2020-11-06T10:04:42.498057",
          "status": "completed"
        },
        "tags": []
      },
      "source": [
        "## Read the datasets"
      ]
    },
    {
      "cell_type": "code",
      "metadata": {
        "execution": {
          "iopub.execute_input": "2020-11-06T10:04:42.682299Z",
          "iopub.status.busy": "2020-11-06T10:04:42.681536Z",
          "iopub.status.idle": "2020-11-06T10:04:49.734235Z",
          "shell.execute_reply": "2020-11-06T10:04:49.733374Z"
        },
        "id": "DCc6TTW20Bku",
        "papermill": {
          "duration": 7.116506,
          "end_time": "2020-11-06T10:04:49.734368",
          "exception": false,
          "start_time": "2020-11-06T10:04:42.617862",
          "status": "completed"
        },
        "tags": []
      },
      "source": [
        "test_df=pd.read_excel('../input/coronavirus-tweets-dataset/Corona_NLP_test.xlsx')\n",
        "train_df=pd.read_excel('../input/coronavirus-tweets-dataset/Corona_NLP_train.xlsx')"
      ],
      "execution_count": null,
      "outputs": []
    },
    {
      "cell_type": "code",
      "metadata": {
        "execution": {
          "iopub.execute_input": "2020-11-06T10:04:49.877684Z",
          "iopub.status.busy": "2020-11-06T10:04:49.876684Z",
          "iopub.status.idle": "2020-11-06T10:04:49.883352Z",
          "shell.execute_reply": "2020-11-06T10:04:49.882494Z"
        },
        "id": "iRjBL4hJ1xzr",
        "papermill": {
          "duration": 0.090889,
          "end_time": "2020-11-06T10:04:49.883499",
          "exception": false,
          "start_time": "2020-11-06T10:04:49.792610",
          "status": "completed"
        },
        "tags": [],
        "outputId": "2af2580e-4366-4d49-a6d4-8d836c0dacfe"
      },
      "source": [
        "print(f'Shape of the train dataset: {train_df.shape}')\n",
        "print(f'Shape of the test dataset: {test_df.shape}')"
      ],
      "execution_count": null,
      "outputs": [
        {
          "output_type": "stream",
          "text": [
            "Shape of the train dataset: (41157, 6)\n",
            "Shape of the test dataset: (3798, 6)\n"
          ],
          "name": "stdout"
        }
      ]
    },
    {
      "cell_type": "code",
      "metadata": {
        "execution": {
          "iopub.execute_input": "2020-11-06T10:04:50.077995Z",
          "iopub.status.busy": "2020-11-06T10:04:50.077144Z",
          "iopub.status.idle": "2020-11-06T10:04:50.088125Z",
          "shell.execute_reply": "2020-11-06T10:04:50.088699Z"
        },
        "id": "k7NEPX4J2QkJ",
        "papermill": {
          "duration": 0.121371,
          "end_time": "2020-11-06T10:04:50.088860",
          "exception": false,
          "start_time": "2020-11-06T10:04:49.967489",
          "status": "completed"
        },
        "tags": [],
        "outputId": "acbfc2cb-3e13-42f8-d2b0-2a3f45dc7463"
      },
      "source": [
        "# Unique classes in target variable (Sentiment)\n",
        "train_df.Sentiment.unique()"
      ],
      "execution_count": null,
      "outputs": [
        {
          "output_type": "execute_result",
          "data": {
            "text/plain": [
              "array(['Neutral', 'Positive', 'Extremely Negative', 'Negative',\n",
              "       'Extremely Positive'], dtype=object)"
            ]
          },
          "metadata": {
            "tags": []
          },
          "execution_count": 5
        }
      ]
    },
    {
      "cell_type": "code",
      "metadata": {
        "execution": {
          "iopub.execute_input": "2020-11-06T10:04:50.253882Z",
          "iopub.status.busy": "2020-11-06T10:04:50.253163Z",
          "iopub.status.idle": "2020-11-06T10:04:50.281917Z",
          "shell.execute_reply": "2020-11-06T10:04:50.282801Z"
        },
        "id": "gDdrr7CV9r67",
        "papermill": {
          "duration": 0.115306,
          "end_time": "2020-11-06T10:04:50.282962",
          "exception": false,
          "start_time": "2020-11-06T10:04:50.167656",
          "status": "completed"
        },
        "tags": [],
        "outputId": "294a686f-6d34-4cb5-e5db-615bda593f42"
      },
      "source": [
        "train_df.head()"
      ],
      "execution_count": null,
      "outputs": [
        {
          "output_type": "execute_result",
          "data": {
            "text/html": [
              "<div>\n",
              "<style scoped>\n",
              "    .dataframe tbody tr th:only-of-type {\n",
              "        vertical-align: middle;\n",
              "    }\n",
              "\n",
              "    .dataframe tbody tr th {\n",
              "        vertical-align: top;\n",
              "    }\n",
              "\n",
              "    .dataframe thead th {\n",
              "        text-align: right;\n",
              "    }\n",
              "</style>\n",
              "<table border=\"1\" class=\"dataframe\">\n",
              "  <thead>\n",
              "    <tr style=\"text-align: right;\">\n",
              "      <th></th>\n",
              "      <th>UserName</th>\n",
              "      <th>ScreenName</th>\n",
              "      <th>Location</th>\n",
              "      <th>TweetAt</th>\n",
              "      <th>OriginalTweet</th>\n",
              "      <th>Sentiment</th>\n",
              "    </tr>\n",
              "  </thead>\n",
              "  <tbody>\n",
              "    <tr>\n",
              "      <th>0</th>\n",
              "      <td>3799</td>\n",
              "      <td>48751</td>\n",
              "      <td>London</td>\n",
              "      <td>16-03-2020</td>\n",
              "      <td>@MeNyrbie @Phil_Gahan @Chrisitv https://t.co/i...</td>\n",
              "      <td>Neutral</td>\n",
              "    </tr>\n",
              "    <tr>\n",
              "      <th>1</th>\n",
              "      <td>3800</td>\n",
              "      <td>48752</td>\n",
              "      <td>UK</td>\n",
              "      <td>16-03-2020</td>\n",
              "      <td>advice Talk to your neighbours family to excha...</td>\n",
              "      <td>Positive</td>\n",
              "    </tr>\n",
              "    <tr>\n",
              "      <th>2</th>\n",
              "      <td>3801</td>\n",
              "      <td>48753</td>\n",
              "      <td>Vagabonds</td>\n",
              "      <td>16-03-2020</td>\n",
              "      <td>Coronavirus Australia: Woolworths to give elde...</td>\n",
              "      <td>Positive</td>\n",
              "    </tr>\n",
              "    <tr>\n",
              "      <th>3</th>\n",
              "      <td>3802</td>\n",
              "      <td>48754</td>\n",
              "      <td>NaN</td>\n",
              "      <td>16-03-2020</td>\n",
              "      <td>My food stock is not the only one which is emp...</td>\n",
              "      <td>Positive</td>\n",
              "    </tr>\n",
              "    <tr>\n",
              "      <th>4</th>\n",
              "      <td>3803</td>\n",
              "      <td>48755</td>\n",
              "      <td>NaN</td>\n",
              "      <td>16-03-2020</td>\n",
              "      <td>Me, ready to go at supermarket during the #COV...</td>\n",
              "      <td>Extremely Negative</td>\n",
              "    </tr>\n",
              "  </tbody>\n",
              "</table>\n",
              "</div>"
            ],
            "text/plain": [
              "   UserName  ScreenName   Location     TweetAt  \\\n",
              "0      3799       48751     London  16-03-2020   \n",
              "1      3800       48752         UK  16-03-2020   \n",
              "2      3801       48753  Vagabonds  16-03-2020   \n",
              "3      3802       48754        NaN  16-03-2020   \n",
              "4      3803       48755        NaN  16-03-2020   \n",
              "\n",
              "                                       OriginalTweet           Sentiment  \n",
              "0  @MeNyrbie @Phil_Gahan @Chrisitv https://t.co/i...             Neutral  \n",
              "1  advice Talk to your neighbours family to excha...            Positive  \n",
              "2  Coronavirus Australia: Woolworths to give elde...            Positive  \n",
              "3  My food stock is not the only one which is emp...            Positive  \n",
              "4  Me, ready to go at supermarket during the #COV...  Extremely Negative  "
            ]
          },
          "metadata": {
            "tags": []
          },
          "execution_count": 6
        }
      ]
    },
    {
      "cell_type": "code",
      "metadata": {
        "execution": {
          "iopub.execute_input": "2020-11-06T10:04:50.491064Z",
          "iopub.status.busy": "2020-11-06T10:04:50.490011Z",
          "iopub.status.idle": "2020-11-06T10:04:50.493762Z",
          "shell.execute_reply": "2020-11-06T10:04:50.494402Z"
        },
        "id": "64P3SYgZ9VJ6",
        "papermill": {
          "duration": 0.101529,
          "end_time": "2020-11-06T10:04:50.494518",
          "exception": false,
          "start_time": "2020-11-06T10:04:50.392989",
          "status": "completed"
        },
        "tags": [],
        "outputId": "1a1893b8-23d2-4632-fdd2-1a29b45a9436"
      },
      "source": [
        "test_df.head()"
      ],
      "execution_count": null,
      "outputs": [
        {
          "output_type": "execute_result",
          "data": {
            "text/html": [
              "<div>\n",
              "<style scoped>\n",
              "    .dataframe tbody tr th:only-of-type {\n",
              "        vertical-align: middle;\n",
              "    }\n",
              "\n",
              "    .dataframe tbody tr th {\n",
              "        vertical-align: top;\n",
              "    }\n",
              "\n",
              "    .dataframe thead th {\n",
              "        text-align: right;\n",
              "    }\n",
              "</style>\n",
              "<table border=\"1\" class=\"dataframe\">\n",
              "  <thead>\n",
              "    <tr style=\"text-align: right;\">\n",
              "      <th></th>\n",
              "      <th>UserName</th>\n",
              "      <th>ScreenName</th>\n",
              "      <th>Location</th>\n",
              "      <th>TweetAt</th>\n",
              "      <th>OriginalTweet</th>\n",
              "      <th>Sentiment</th>\n",
              "    </tr>\n",
              "  </thead>\n",
              "  <tbody>\n",
              "    <tr>\n",
              "      <th>0</th>\n",
              "      <td>1</td>\n",
              "      <td>44953</td>\n",
              "      <td>NYC</td>\n",
              "      <td>2020-02-03 00:00:00</td>\n",
              "      <td>TRENDING: New Yorkers encounter empty supermar...</td>\n",
              "      <td>Extremely Negative</td>\n",
              "    </tr>\n",
              "    <tr>\n",
              "      <th>1</th>\n",
              "      <td>2</td>\n",
              "      <td>44954</td>\n",
              "      <td>Seattle, WA</td>\n",
              "      <td>2020-02-03 00:00:00</td>\n",
              "      <td>When I couldn't find hand sanitizer at Fred Me...</td>\n",
              "      <td>Positive</td>\n",
              "    </tr>\n",
              "    <tr>\n",
              "      <th>2</th>\n",
              "      <td>3</td>\n",
              "      <td>44955</td>\n",
              "      <td>NaN</td>\n",
              "      <td>2020-02-03 00:00:00</td>\n",
              "      <td>Find out how you can protect yourself and love...</td>\n",
              "      <td>Extremely Positive</td>\n",
              "    </tr>\n",
              "    <tr>\n",
              "      <th>3</th>\n",
              "      <td>4</td>\n",
              "      <td>44956</td>\n",
              "      <td>Chicagoland</td>\n",
              "      <td>2020-02-03 00:00:00</td>\n",
              "      <td>#Panic buying hits #NewYork City as anxious sh...</td>\n",
              "      <td>Negative</td>\n",
              "    </tr>\n",
              "    <tr>\n",
              "      <th>4</th>\n",
              "      <td>5</td>\n",
              "      <td>44957</td>\n",
              "      <td>Melbourne, Victoria</td>\n",
              "      <td>2020-03-03 00:00:00</td>\n",
              "      <td>#toiletpaper #dunnypaper #coronavirus #coronav...</td>\n",
              "      <td>Neutral</td>\n",
              "    </tr>\n",
              "  </tbody>\n",
              "</table>\n",
              "</div>"
            ],
            "text/plain": [
              "   UserName  ScreenName             Location              TweetAt  \\\n",
              "0         1       44953                  NYC  2020-02-03 00:00:00   \n",
              "1         2       44954          Seattle, WA  2020-02-03 00:00:00   \n",
              "2         3       44955                  NaN  2020-02-03 00:00:00   \n",
              "3         4       44956          Chicagoland  2020-02-03 00:00:00   \n",
              "4         5       44957  Melbourne, Victoria  2020-03-03 00:00:00   \n",
              "\n",
              "                                       OriginalTweet           Sentiment  \n",
              "0  TRENDING: New Yorkers encounter empty supermar...  Extremely Negative  \n",
              "1  When I couldn't find hand sanitizer at Fred Me...            Positive  \n",
              "2  Find out how you can protect yourself and love...  Extremely Positive  \n",
              "3  #Panic buying hits #NewYork City as anxious sh...            Negative  \n",
              "4  #toiletpaper #dunnypaper #coronavirus #coronav...             Neutral  "
            ]
          },
          "metadata": {
            "tags": []
          },
          "execution_count": 7
        }
      ]
    },
    {
      "cell_type": "markdown",
      "metadata": {
        "id": "AEeuuYeHWf2D",
        "papermill": {
          "duration": 0.056212,
          "end_time": "2020-11-06T10:04:50.608428",
          "exception": false,
          "start_time": "2020-11-06T10:04:50.552216",
          "status": "completed"
        },
        "tags": []
      },
      "source": [
        "Both train_df & test_df contains html tags,special characters (@,# etc), https links, which are not required for the Sentiment analysis. So we need to remove those by normalizing the tweets data to reduce dimensionality & noise in the data."
      ]
    },
    {
      "cell_type": "markdown",
      "metadata": {
        "id": "OHAYbmAJky3I",
        "papermill": {
          "duration": 0.058089,
          "end_time": "2020-11-06T10:04:50.723756",
          "exception": false,
          "start_time": "2020-11-06T10:04:50.665667",
          "status": "completed"
        },
        "tags": []
      },
      "source": [
        "Let's check missing values if there are any."
      ]
    },
    {
      "cell_type": "code",
      "metadata": {
        "execution": {
          "iopub.execute_input": "2020-11-06T10:04:50.865005Z",
          "iopub.status.busy": "2020-11-06T10:04:50.864105Z",
          "iopub.status.idle": "2020-11-06T10:04:50.877218Z",
          "shell.execute_reply": "2020-11-06T10:04:50.876585Z"
        },
        "id": "GYNF29Dvk1Ri",
        "papermill": {
          "duration": 0.095186,
          "end_time": "2020-11-06T10:04:50.877336",
          "exception": false,
          "start_time": "2020-11-06T10:04:50.782150",
          "status": "completed"
        },
        "tags": [],
        "outputId": "3480b079-4848-43f5-e399-20435ab5894f"
      },
      "source": [
        "train_df.info()"
      ],
      "execution_count": null,
      "outputs": [
        {
          "output_type": "stream",
          "text": [
            "<class 'pandas.core.frame.DataFrame'>\n",
            "RangeIndex: 41157 entries, 0 to 41156\n",
            "Data columns (total 6 columns):\n",
            " #   Column         Non-Null Count  Dtype \n",
            "---  ------         --------------  ----- \n",
            " 0   UserName       41157 non-null  int64 \n",
            " 1   ScreenName     41157 non-null  int64 \n",
            " 2   Location       32563 non-null  object\n",
            " 3   TweetAt        41157 non-null  object\n",
            " 4   OriginalTweet  41157 non-null  object\n",
            " 5   Sentiment      41157 non-null  object\n",
            "dtypes: int64(2), object(4)\n",
            "memory usage: 1.9+ MB\n"
          ],
          "name": "stdout"
        }
      ]
    },
    {
      "cell_type": "code",
      "metadata": {
        "execution": {
          "iopub.execute_input": "2020-11-06T10:04:51.015346Z",
          "iopub.status.busy": "2020-11-06T10:04:51.014354Z",
          "iopub.status.idle": "2020-11-06T10:04:51.018571Z",
          "shell.execute_reply": "2020-11-06T10:04:51.019160Z"
        },
        "id": "mRBNv-Ezk94a",
        "papermill": {
          "duration": 0.077258,
          "end_time": "2020-11-06T10:04:51.019299",
          "exception": false,
          "start_time": "2020-11-06T10:04:50.942041",
          "status": "completed"
        },
        "tags": [],
        "outputId": "2401fccb-14ba-4ce4-e6c4-c4bce4a92a96"
      },
      "source": [
        "test_df.info()"
      ],
      "execution_count": null,
      "outputs": [
        {
          "output_type": "stream",
          "text": [
            "<class 'pandas.core.frame.DataFrame'>\n",
            "RangeIndex: 3798 entries, 0 to 3797\n",
            "Data columns (total 6 columns):\n",
            " #   Column         Non-Null Count  Dtype \n",
            "---  ------         --------------  ----- \n",
            " 0   UserName       3798 non-null   int64 \n",
            " 1   ScreenName     3798 non-null   int64 \n",
            " 2   Location       2963 non-null   object\n",
            " 3   TweetAt        3798 non-null   object\n",
            " 4   OriginalTweet  3798 non-null   object\n",
            " 5   Sentiment      3798 non-null   object\n",
            "dtypes: int64(2), object(4)\n",
            "memory usage: 178.2+ KB\n"
          ],
          "name": "stdout"
        }
      ]
    },
    {
      "cell_type": "code",
      "metadata": {
        "execution": {
          "iopub.execute_input": "2020-11-06T10:04:51.152607Z",
          "iopub.status.busy": "2020-11-06T10:04:51.151698Z",
          "iopub.status.idle": "2020-11-06T10:04:51.154729Z",
          "shell.execute_reply": "2020-11-06T10:04:51.154106Z"
        },
        "id": "CfgMPXvSWXuX",
        "papermill": {
          "duration": 0.069916,
          "end_time": "2020-11-06T10:04:51.154847",
          "exception": false,
          "start_time": "2020-11-06T10:04:51.084931",
          "status": "completed"
        },
        "tags": []
      },
      "source": [
        "def preprocessing(df):\n",
        "    # drop unneeded columns\n",
        "    df=df.drop(['UserName','ScreenName'],axis=1)\n",
        "    \n",
        "    # Replace @,# etc by ' '\n",
        "    df['OriginalTweet']=df['OriginalTweet'].apply(lambda x: re.sub(r'[@#]',' ',x))\n",
        "    #Excluding html tags\n",
        "    df['OriginalTweet']=df['OriginalTweet'].apply(lambda x: re.sub(r'<[^<>]+>]',' ',x))\n",
        "    # Replace https links by ' '\n",
        "    df['OriginalTweet']=df['OriginalTweet'].apply(lambda x: re.sub(r'http://\\S+|https://\\S+',' ',x))\n",
        "    return df"
      ],
      "execution_count": null,
      "outputs": []
    },
    {
      "cell_type": "code",
      "metadata": {
        "execution": {
          "iopub.execute_input": "2020-11-06T10:04:51.282726Z",
          "iopub.status.busy": "2020-11-06T10:04:51.278791Z",
          "iopub.status.idle": "2020-11-06T10:04:51.807447Z",
          "shell.execute_reply": "2020-11-06T10:04:51.806864Z"
        },
        "id": "KIaQvoPvaAAT",
        "papermill": {
          "duration": 0.593321,
          "end_time": "2020-11-06T10:04:51.807573",
          "exception": false,
          "start_time": "2020-11-06T10:04:51.214252",
          "status": "completed"
        },
        "tags": []
      },
      "source": [
        "train_df=preprocessing(train_df)\n",
        "test_df=preprocessing(test_df)"
      ],
      "execution_count": null,
      "outputs": []
    },
    {
      "cell_type": "markdown",
      "metadata": {
        "id": "JNV-tB614BqO",
        "papermill": {
          "duration": 0.057901,
          "end_time": "2020-11-06T10:04:51.926108",
          "exception": false,
          "start_time": "2020-11-06T10:04:51.868207",
          "status": "completed"
        },
        "tags": []
      },
      "source": [
        "## Check class imbalance in target variable"
      ]
    },
    {
      "cell_type": "code",
      "metadata": {
        "execution": {
          "iopub.execute_input": "2020-11-06T10:04:52.051544Z",
          "iopub.status.busy": "2020-11-06T10:04:52.050826Z",
          "iopub.status.idle": "2020-11-06T10:04:52.320544Z",
          "shell.execute_reply": "2020-11-06T10:04:52.321110Z"
        },
        "id": "2ofbrlZvaGGq",
        "papermill": {
          "duration": 0.334862,
          "end_time": "2020-11-06T10:04:52.321243",
          "exception": false,
          "start_time": "2020-11-06T10:04:51.986381",
          "status": "completed"
        },
        "tags": [],
        "outputId": "b2e13d7f-01f2-4523-c15d-7a80c52e5c1e"
      },
      "source": [
        "plt.figure(figsize=(10,6))\n",
        "sns.countplot(train_df['Sentiment'])"
      ],
      "execution_count": null,
      "outputs": [
        {
          "output_type": "execute_result",
          "data": {
            "text/plain": [
              "<matplotlib.axes._subplots.AxesSubplot at 0x7ff28f3bde50>"
            ]
          },
          "metadata": {
            "tags": []
          },
          "execution_count": 12
        },
        {
          "output_type": "display_data",
          "data": {
            "image/png": "[encoded data removed]",
            "text/plain": [
              "<Figure size 720x432 with 1 Axes>"
            ]
          },
          "metadata": {
            "tags": [],
            "image/png": {
              "height": 376,
              "width": 632
            }
          }
        }
      ]
    },
    {
      "cell_type": "markdown",
      "metadata": {
        "id": "lHoqYJ3aXUln",
        "papermill": {
          "duration": 0.062263,
          "end_time": "2020-11-06T10:04:52.444306",
          "exception": false,
          "start_time": "2020-11-06T10:04:52.382043",
          "status": "completed"
        },
        "tags": []
      },
      "source": [
        "## Encode our target labels"
      ]
    },
    {
      "cell_type": "code",
      "metadata": {
        "execution": {
          "iopub.execute_input": "2020-11-06T10:04:52.583811Z",
          "iopub.status.busy": "2020-11-06T10:04:52.582930Z",
          "iopub.status.idle": "2020-11-06T10:04:52.591551Z",
          "shell.execute_reply": "2020-11-06T10:04:52.591023Z"
        },
        "id": "yWxqQvhSXdyI",
        "papermill": {
          "duration": 0.08709,
          "end_time": "2020-11-06T10:04:52.591654",
          "exception": false,
          "start_time": "2020-11-06T10:04:52.504564",
          "status": "completed"
        },
        "tags": []
      },
      "source": [
        "le=LabelEncoder()\n",
        "train_df['Sentiment']=le.fit_transform(train_df['Sentiment'])\n",
        "test_df['Sentiment']=le.transform(test_df['Sentiment'])"
      ],
      "execution_count": null,
      "outputs": []
    },
    {
      "cell_type": "code",
      "metadata": {
        "execution": {
          "iopub.execute_input": "2020-11-06T10:04:52.717576Z",
          "iopub.status.busy": "2020-11-06T10:04:52.716803Z",
          "iopub.status.idle": "2020-11-06T10:04:52.721089Z",
          "shell.execute_reply": "2020-11-06T10:04:52.720597Z"
        },
        "id": "MAxMvuVU53NI",
        "papermill": {
          "duration": 0.070035,
          "end_time": "2020-11-06T10:04:52.721186",
          "exception": false,
          "start_time": "2020-11-06T10:04:52.651151",
          "status": "completed"
        },
        "tags": [],
        "outputId": "183cf46b-1e5c-4b05-fa8c-ed489b96325b"
      },
      "source": [
        "train_df.dtypes"
      ],
      "execution_count": null,
      "outputs": [
        {
          "output_type": "execute_result",
          "data": {
            "text/plain": [
              "Location         object\n",
              "TweetAt          object\n",
              "OriginalTweet    object\n",
              "Sentiment         int64\n",
              "dtype: object"
            ]
          },
          "metadata": {
            "tags": []
          },
          "execution_count": 14
        }
      ]
    },
    {
      "cell_type": "code",
      "metadata": {
        "execution": {
          "iopub.execute_input": "2020-11-06T10:04:52.851225Z",
          "iopub.status.busy": "2020-11-06T10:04:52.850224Z",
          "iopub.status.idle": "2020-11-06T10:04:52.854594Z",
          "shell.execute_reply": "2020-11-06T10:04:52.854060Z"
        },
        "id": "oPtHyqOPYfHl",
        "papermill": {
          "duration": 0.07225,
          "end_time": "2020-11-06T10:04:52.854691",
          "exception": false,
          "start_time": "2020-11-06T10:04:52.782441",
          "status": "completed"
        },
        "tags": [],
        "outputId": "03a6cd38-dcb7-492f-a793-bbdb6659cd37"
      },
      "source": [
        "le.classes_"
      ],
      "execution_count": null,
      "outputs": [
        {
          "output_type": "execute_result",
          "data": {
            "text/plain": [
              "array(['Extremely Negative', 'Extremely Positive', 'Negative', 'Neutral',\n",
              "       'Positive'], dtype=object)"
            ]
          },
          "metadata": {
            "tags": []
          },
          "execution_count": 15
        }
      ]
    },
    {
      "cell_type": "code",
      "metadata": {
        "execution": {
          "iopub.execute_input": "2020-11-06T10:04:52.983383Z",
          "iopub.status.busy": "2020-11-06T10:04:52.982535Z",
          "iopub.status.idle": "2020-11-06T10:04:52.985834Z",
          "shell.execute_reply": "2020-11-06T10:04:52.985164Z"
        },
        "id": "EmdkvMmSi5DT",
        "papermill": {
          "duration": 0.069465,
          "end_time": "2020-11-06T10:04:52.985977",
          "exception": false,
          "start_time": "2020-11-06T10:04:52.916512",
          "status": "completed"
        },
        "tags": []
      },
      "source": [
        "class_names=['Extremely Negative','Extremely Positive','Negative','Neutral','Positive']"
      ],
      "execution_count": null,
      "outputs": []
    },
    {
      "cell_type": "markdown",
      "metadata": {
        "id": "f2frW35vaoGt",
        "papermill": {
          "duration": 0.061704,
          "end_time": "2020-11-06T10:04:53.112418",
          "exception": false,
          "start_time": "2020-11-06T10:04:53.050714",
          "status": "completed"
        },
        "tags": []
      },
      "source": [
        "Here, 0 - Extremely Negative, 1 - Extremely Positive, 2 - Negative, 3 - Neutral, 4 - Positive"
      ]
    },
    {
      "cell_type": "markdown",
      "metadata": {
        "id": "2cg8xRFGuLEw",
        "papermill": {
          "duration": 0.062136,
          "end_time": "2020-11-06T10:04:53.237232",
          "exception": false,
          "start_time": "2020-11-06T10:04:53.175096",
          "status": "completed"
        },
        "tags": []
      },
      "source": [
        "# **ALBERT model**"
      ]
    },
    {
      "cell_type": "markdown",
      "metadata": {
        "id": "LF_-831Jtrj1",
        "papermill": {
          "duration": 0.06295,
          "end_time": "2020-11-06T10:04:53.362371",
          "exception": false,
          "start_time": "2020-11-06T10:04:53.299421",
          "status": "completed"
        },
        "tags": []
      },
      "source": [
        "### **Data Preprocessing**"
      ]
    },
    {
      "cell_type": "markdown",
      "metadata": {
        "id": "Q7pt-8TKtva9",
        "papermill": {
          "duration": 0.063621,
          "end_time": "2020-11-06T10:04:53.489299",
          "exception": false,
          "start_time": "2020-11-06T10:04:53.425678",
          "status": "completed"
        },
        "tags": []
      },
      "source": [
        "### Let's tokenize the text to convert from raw text to numbers."
      ]
    },
    {
      "cell_type": "code",
      "metadata": {
        "execution": {
          "iopub.execute_input": "2020-11-06T10:04:53.616608Z",
          "iopub.status.busy": "2020-11-06T10:04:53.615661Z",
          "iopub.status.idle": "2020-11-06T10:04:53.618392Z",
          "shell.execute_reply": "2020-11-06T10:04:53.618877Z"
        },
        "id": "eNB0Ku6lcnMT",
        "papermill": {
          "duration": 0.068197,
          "end_time": "2020-11-06T10:04:53.619003",
          "exception": false,
          "start_time": "2020-11-06T10:04:53.550806",
          "status": "completed"
        },
        "tags": []
      },
      "source": [
        "pre_trained_ALBERTmodel='albert-base-v2'"
      ],
      "execution_count": null,
      "outputs": []
    },
    {
      "cell_type": "markdown",
      "metadata": {
        "id": "hngvutBoxSqc",
        "papermill": {
          "duration": 0.061277,
          "end_time": "2020-11-06T10:04:53.743291",
          "exception": false,
          "start_time": "2020-11-06T10:04:53.682014",
          "status": "completed"
        },
        "tags": []
      },
      "source": [
        "### Let's load a pre-trained [ALBERT Tokenizer](https://huggingface.co/transformers/_modules/transformers/tokenization_albert.html):"
      ]
    },
    {
      "cell_type": "code",
      "metadata": {
        "execution": {
          "iopub.execute_input": "2020-11-06T10:04:53.877185Z",
          "iopub.status.busy": "2020-11-06T10:04:53.876218Z",
          "iopub.status.idle": "2020-11-06T10:04:56.988851Z",
          "shell.execute_reply": "2020-11-06T10:04:56.990060Z"
        },
        "id": "9STMVt1uxHId",
        "papermill": {
          "duration": 3.182526,
          "end_time": "2020-11-06T10:04:56.990277",
          "exception": false,
          "start_time": "2020-11-06T10:04:53.807751",
          "status": "completed"
        },
        "tags": [],
        "outputId": "5afba614-4ebb-4684-f53c-fe292fff6ba7"
      },
      "source": [
        "ALBERT_tokenizer=AlbertTokenizer.from_pretrained(pre_trained_ALBERTmodel, do_lower_case=True)"
      ],
      "execution_count": null,
      "outputs": [
        {
          "output_type": "display_data",
          "data": {
            "application/vnd.jupyter.widget-view+json": {
              "model_id": "8e72eba620094817a2035686cda894c5",
              "version_major": 2,
              "version_minor": 0
            },
            "text/plain": [
              "HBox(children=(FloatProgress(value=0.0, description='Downloading', max=760289.0, style=ProgressStyle(descripti…"
            ]
          },
          "metadata": {
            "tags": []
          }
        },
        {
          "output_type": "stream",
          "text": [
            "\n"
          ],
          "name": "stdout"
        }
      ]
    },
    {
      "cell_type": "markdown",
      "metadata": {
        "id": "RgHByWsy1r_f",
        "papermill": {
          "duration": 0.064557,
          "end_time": "2020-11-06T10:04:57.121855",
          "exception": false,
          "start_time": "2020-11-06T10:04:57.057298",
          "status": "completed"
        },
        "tags": []
      },
      "source": [
        "### Let's check a text sample to understand ALBERT tokenization:"
      ]
    },
    {
      "cell_type": "code",
      "metadata": {
        "execution": {
          "iopub.execute_input": "2020-11-06T10:04:57.258843Z",
          "iopub.status.busy": "2020-11-06T10:04:57.257951Z",
          "iopub.status.idle": "2020-11-06T10:04:57.262410Z",
          "shell.execute_reply": "2020-11-06T10:04:57.263060Z"
        },
        "id": "rFD_2Oz71GpY",
        "papermill": {
          "duration": 0.076886,
          "end_time": "2020-11-06T10:04:57.263216",
          "exception": false,
          "start_time": "2020-11-06T10:04:57.186330",
          "status": "completed"
        },
        "tags": [],
        "outputId": "f6c78ffc-bc16-4739-b923-d6aa354b8de2"
      },
      "source": [
        "text= \"I was on cloud nine, when I got a new project.\"\n",
        "\n",
        "#Convert text to tokens & token_ids\n",
        "tokens=ALBERT_tokenizer.tokenize(text)\n",
        "token_ids=ALBERT_tokenizer.convert_tokens_to_ids(tokens)\n",
        "\n",
        "print(f'Sentence : {text}')\n",
        "print(f'Tokens :{tokens}')\n",
        "print(f'Token IDs : {token_ids}')"
      ],
      "execution_count": null,
      "outputs": [
        {
          "output_type": "stream",
          "text": [
            "Sentence : I was on cloud nine, when I got a new project.\n",
            "Tokens :['▁i', '▁was', '▁on', '▁cloud', '▁nine', ',', '▁when', '▁i', '▁got', '▁a', '▁new', '▁project', '.']\n",
            "Token IDs : [31, 23, 27, 4005, 1391, 15, 76, 31, 330, 21, 78, 669, 9]\n"
          ],
          "name": "stdout"
        }
      ]
    },
    {
      "cell_type": "markdown",
      "metadata": {
        "id": "wklVbR5ek4E8",
        "papermill": {
          "duration": 0.069025,
          "end_time": "2020-11-06T10:04:57.398283",
          "exception": false,
          "start_time": "2020-11-06T10:04:57.329258",
          "status": "completed"
        },
        "tags": []
      },
      "source": [
        "### Add Special tokens\n",
        "\n",
        "XLNet expects special tokens for each sentence,          \n",
        "[SEP] - marker at the end of each sentence             \n",
        "[CLS] - marker at the start of each sentence.            \n",
        "[PAD] - marker for padding sentence to a specific length"
      ]
    },
    {
      "cell_type": "code",
      "metadata": {
        "execution": {
          "iopub.execute_input": "2020-11-06T10:04:57.541129Z",
          "iopub.status.busy": "2020-11-06T10:04:57.540360Z",
          "iopub.status.idle": "2020-11-06T10:04:57.548055Z",
          "shell.execute_reply": "2020-11-06T10:04:57.547391Z"
        },
        "id": "arLw52uN220X",
        "papermill": {
          "duration": 0.081779,
          "end_time": "2020-11-06T10:04:57.548150",
          "exception": false,
          "start_time": "2020-11-06T10:04:57.466371",
          "status": "completed"
        },
        "tags": [],
        "outputId": "ddc01869-e04b-46d4-90f8-a489d364677a"
      },
      "source": [
        "encoding=ALBERT_tokenizer.encode_plus(\n",
        "    text,\n",
        "    max_length=32,\n",
        "    add_special_tokens=True,   # 'Add [SEP] & [CLS]'\n",
        "    pad_to_max_length=True,\n",
        "    truncation=True,\n",
        "    return_attention_mask=True,  # Reurns array of 0's & 1's to distinguish padded tokens from real tokens.\n",
        "    return_token_type_ids=False,\n",
        "    return_tensors='pt'         # Returns pytorch tensors\n",
        ")\n",
        "\n",
        "encoding.keys()"
      ],
      "execution_count": null,
      "outputs": [
        {
          "output_type": "execute_result",
          "data": {
            "text/plain": [
              "dict_keys(['input_ids', 'attention_mask'])"
            ]
          },
          "metadata": {
            "tags": []
          },
          "execution_count": 20
        }
      ]
    },
    {
      "cell_type": "markdown",
      "metadata": {
        "id": "i1FeazrQoUgQ",
        "papermill": {
          "duration": 0.065025,
          "end_time": "2020-11-06T10:04:57.678641",
          "exception": false,
          "start_time": "2020-11-06T10:04:57.613616",
          "status": "completed"
        },
        "tags": []
      },
      "source": [
        "Encoding contains input_ids & attention masks of same length 32 for each sentence."
      ]
    },
    {
      "cell_type": "code",
      "metadata": {
        "execution": {
          "iopub.execute_input": "2020-11-06T10:04:57.825451Z",
          "iopub.status.busy": "2020-11-06T10:04:57.824710Z",
          "iopub.status.idle": "2020-11-06T10:04:57.834222Z",
          "shell.execute_reply": "2020-11-06T10:04:57.833456Z"
        },
        "id": "R_qiDJrZoN4j",
        "papermill": {
          "duration": 0.089516,
          "end_time": "2020-11-06T10:04:57.834360",
          "exception": false,
          "start_time": "2020-11-06T10:04:57.744844",
          "status": "completed"
        },
        "tags": [],
        "outputId": "2f80555b-2f94-4e59-856c-4752f9e5a0b3"
      },
      "source": [
        "# Check input_ids\n",
        "print('Maximum length of input_ids for each sentence : {}'.format(len(encoding['input_ids'][0])))\n",
        "encoding['input_ids'][0]"
      ],
      "execution_count": null,
      "outputs": [
        {
          "output_type": "stream",
          "text": [
            "Maximum length of input_ids for each sentence : 32\n"
          ],
          "name": "stdout"
        },
        {
          "output_type": "execute_result",
          "data": {
            "text/plain": [
              "tensor([   2,   31,   23,   27, 4005, 1391,   15,   76,   31,  330,   21,   78,\n",
              "         669,    9,    3,    0,    0,    0,    0,    0,    0,    0,    0,    0,\n",
              "           0,    0,    0,    0,    0,    0,    0,    0])"
            ]
          },
          "metadata": {
            "tags": []
          },
          "execution_count": 21
        }
      ]
    },
    {
      "cell_type": "markdown",
      "metadata": {
        "id": "523kAiEY4bZs",
        "papermill": {
          "duration": 0.104536,
          "end_time": "2020-11-06T10:04:58.006960",
          "exception": false,
          "start_time": "2020-11-06T10:04:57.902424",
          "status": "completed"
        },
        "tags": []
      },
      "source": [
        "In above tensor,        \n",
        "0 - Padded index (post -padding)   \n",
        "3 - [SEP] Special token    \n",
        "2 - [CLS] Special token"
      ]
    },
    {
      "cell_type": "code",
      "metadata": {
        "execution": {
          "iopub.execute_input": "2020-11-06T10:04:58.146673Z",
          "iopub.status.busy": "2020-11-06T10:04:58.145692Z",
          "iopub.status.idle": "2020-11-06T10:04:58.153529Z",
          "shell.execute_reply": "2020-11-06T10:04:58.152847Z"
        },
        "id": "8DPCd94H3UpE",
        "papermill": {
          "duration": 0.077979,
          "end_time": "2020-11-06T10:04:58.153643",
          "exception": false,
          "start_time": "2020-11-06T10:04:58.075664",
          "status": "completed"
        },
        "tags": [],
        "outputId": "1966c813-5478-40a2-cdc1-f7e20c45c6be"
      },
      "source": [
        "#check attention mask\n",
        "print(f\"Maximum length of attention mask for each sentence : {len(encoding['attention_mask'][0])}\")\n",
        "encoding['attention_mask'][0]"
      ],
      "execution_count": null,
      "outputs": [
        {
          "output_type": "stream",
          "text": [
            "Maximum length of attention mask for each sentence : 32\n"
          ],
          "name": "stdout"
        },
        {
          "output_type": "execute_result",
          "data": {
            "text/plain": [
              "tensor([1, 1, 1, 1, 1, 1, 1, 1, 1, 1, 1, 1, 1, 1, 1, 0, 0, 0, 0, 0, 0, 0, 0, 0,\n",
              "        0, 0, 0, 0, 0, 0, 0, 0])"
            ]
          },
          "metadata": {
            "tags": []
          },
          "execution_count": 22
        }
      ]
    },
    {
      "cell_type": "markdown",
      "metadata": {
        "id": "vhgLXYHW6BJH",
        "papermill": {
          "duration": 0.067423,
          "end_time": "2020-11-06T10:04:58.289042",
          "exception": false,
          "start_time": "2020-11-06T10:04:58.221619",
          "status": "completed"
        },
        "tags": []
      },
      "source": [
        "Let's have a look at the special tokens"
      ]
    },
    {
      "cell_type": "code",
      "metadata": {
        "execution": {
          "iopub.execute_input": "2020-11-06T10:04:58.432046Z",
          "iopub.status.busy": "2020-11-06T10:04:58.431199Z",
          "iopub.status.idle": "2020-11-06T10:04:58.439015Z",
          "shell.execute_reply": "2020-11-06T10:04:58.438354Z"
        },
        "id": "nkXOT4iG55gt",
        "papermill": {
          "duration": 0.081491,
          "end_time": "2020-11-06T10:04:58.439129",
          "exception": false,
          "start_time": "2020-11-06T10:04:58.357638",
          "status": "completed"
        },
        "tags": [],
        "outputId": "447c1064-de14-4526-fd3c-3e749986b0b4"
      },
      "source": [
        "special_tokens=ALBERT_tokenizer.convert_ids_to_tokens(encoding['input_ids'][0])\n",
        "special_tokens"
      ],
      "execution_count": null,
      "outputs": [
        {
          "output_type": "execute_result",
          "data": {
            "text/plain": [
              "['[CLS]',\n",
              " '▁i',\n",
              " '▁was',\n",
              " '▁on',\n",
              " '▁cloud',\n",
              " '▁nine',\n",
              " ',',\n",
              " '▁when',\n",
              " '▁i',\n",
              " '▁got',\n",
              " '▁a',\n",
              " '▁new',\n",
              " '▁project',\n",
              " '.',\n",
              " '[SEP]',\n",
              " '<pad>',\n",
              " '<pad>',\n",
              " '<pad>',\n",
              " '<pad>',\n",
              " '<pad>',\n",
              " '<pad>',\n",
              " '<pad>',\n",
              " '<pad>',\n",
              " '<pad>',\n",
              " '<pad>',\n",
              " '<pad>',\n",
              " '<pad>',\n",
              " '<pad>',\n",
              " '<pad>',\n",
              " '<pad>',\n",
              " '<pad>',\n",
              " '<pad>']"
            ]
          },
          "metadata": {
            "tags": []
          },
          "execution_count": 23
        }
      ]
    },
    {
      "cell_type": "markdown",
      "metadata": {
        "id": "OB9r1YKU6rzo",
        "papermill": {
          "duration": 0.069948,
          "end_time": "2020-11-06T10:04:58.578685",
          "exception": false,
          "start_time": "2020-11-06T10:04:58.508737",
          "status": "completed"
        },
        "tags": []
      },
      "source": [
        "### **Choosing Sequence length for our dataset**"
      ]
    },
    {
      "cell_type": "markdown",
      "metadata": {
        "id": "g810P-fa62Yk",
        "papermill": {
          "duration": 0.068294,
          "end_time": "2020-11-06T10:04:58.716911",
          "exception": false,
          "start_time": "2020-11-06T10:04:58.648617",
          "status": "completed"
        },
        "tags": []
      },
      "source": [
        "#### Let's store the token length of each tweet"
      ]
    },
    {
      "cell_type": "code",
      "metadata": {
        "execution": {
          "iopub.execute_input": "2020-11-06T10:04:58.890630Z",
          "iopub.status.busy": "2020-11-06T10:04:58.874982Z",
          "iopub.status.idle": "2020-11-06T10:05:22.670020Z",
          "shell.execute_reply": "2020-11-06T10:05:22.669326Z"
        },
        "id": "INj5X3cX6Ki2",
        "papermill": {
          "duration": 23.885893,
          "end_time": "2020-11-06T10:05:22.670164",
          "exception": false,
          "start_time": "2020-11-06T10:04:58.784271",
          "status": "completed"
        },
        "tags": []
      },
      "source": [
        "token_lens=[]\n",
        "for tweet in train_df.OriginalTweet:\n",
        "  tokens_tweet=ALBERT_tokenizer.encode(tweet,max_length=150,truncation=True)\n",
        "  token_lens.append(len(tokens_tweet))"
      ],
      "execution_count": null,
      "outputs": []
    },
    {
      "cell_type": "code",
      "metadata": {
        "execution": {
          "iopub.execute_input": "2020-11-06T10:05:22.829125Z",
          "iopub.status.busy": "2020-11-06T10:05:22.828016Z",
          "iopub.status.idle": "2020-11-06T10:05:23.277199Z",
          "shell.execute_reply": "2020-11-06T10:05:23.277768Z"
        },
        "id": "TRHphSZB7Y6B",
        "papermill": {
          "duration": 0.532589,
          "end_time": "2020-11-06T10:05:23.277950",
          "exception": false,
          "start_time": "2020-11-06T10:05:22.745361",
          "status": "completed"
        },
        "tags": [],
        "outputId": "20ea3255-48eb-4826-a289-a154640bcd49"
      },
      "source": [
        "#Plot the tokens\n",
        "plt.figure(figsize=(8,6))\n",
        "sns.distplot(token_lens)\n",
        "plt.xlim([0,150])\n",
        "plt.xlabel('Token count')"
      ],
      "execution_count": null,
      "outputs": [
        {
          "output_type": "execute_result",
          "data": {
            "text/plain": [
              "Text(0.5, 0, 'Token count')"
            ]
          },
          "metadata": {
            "tags": []
          },
          "execution_count": 25
        },
        {
          "output_type": "display_data",
          "data": {
            "image/png": "[encoded data removed]",
            "text/plain": [
              "<Figure size 576x432 with 1 Axes>"
            ]
          },
          "metadata": {
            "tags": [],
            "image/png": {
              "height": 376,
              "width": 501
            }
          }
        }
      ]
    },
    {
      "cell_type": "markdown",
      "metadata": {
        "id": "5ctsOcLy71A4",
        "papermill": {
          "duration": 0.080695,
          "end_time": "2020-11-06T10:05:23.441090",
          "exception": false,
          "start_time": "2020-11-06T10:05:23.360395",
          "status": "completed"
        },
        "tags": []
      },
      "source": [
        "It appears that the length of most tokens lies between 0 & 100. On safer side, we are taking maximum sequence length of 120."
      ]
    },
    {
      "cell_type": "markdown",
      "metadata": {
        "id": "PnU6Yl_8OBEg",
        "papermill": {
          "duration": 0.105614,
          "end_time": "2020-11-06T10:05:23.621767",
          "exception": false,
          "start_time": "2020-11-06T10:05:23.516153",
          "status": "completed"
        },
        "tags": []
      },
      "source": [
        "## Create a Pytorch Dataset"
      ]
    },
    {
      "cell_type": "markdown",
      "metadata": {
        "id": "m2LPVKYXOVX7",
        "papermill": {
          "duration": 0.099299,
          "end_time": "2020-11-06T10:05:23.827868",
          "exception": false,
          "start_time": "2020-11-06T10:05:23.728569",
          "status": "completed"
        },
        "tags": []
      },
      "source": [
        "Pytorch dataset is of map-style i.e., it implements **getitem & len** protocols, & represents a map from indices/keys to datasamples."
      ]
    },
    {
      "cell_type": "code",
      "metadata": {
        "execution": {
          "iopub.execute_input": "2020-11-06T10:05:24.045758Z",
          "iopub.status.busy": "2020-11-06T10:05:24.044348Z",
          "iopub.status.idle": "2020-11-06T10:05:24.049468Z",
          "shell.execute_reply": "2020-11-06T10:05:24.050528Z"
        },
        "id": "9h76DECt7hdd",
        "papermill": {
          "duration": 0.124022,
          "end_time": "2020-11-06T10:05:24.050695",
          "exception": false,
          "start_time": "2020-11-06T10:05:23.926673",
          "status": "completed"
        },
        "tags": []
      },
      "source": [
        "class tweets_Dataset(Dataset):\n",
        "\n",
        "  def __init__(self,tweets,targets,tokenizer,max_length):\n",
        "    self.tweets=tweets\n",
        "    self.targets=targets\n",
        "    self.tokenizer=tokenizer\n",
        "    self.max_length=max_length\n",
        "\n",
        "  def __len__(self):\n",
        "    return len(self.tweets)\n",
        "\n",
        "  def __getitem__(self,item):\n",
        "    tweet = str(self.tweets[item])\n",
        "    targets = self.targets[item]\n",
        "\n",
        "    encoding = self.tokenizer.encode_plus(\n",
        "        tweet,\n",
        "        max_length=Max_length,\n",
        "        add_special_tokens=True,\n",
        "        pad_to_max_length=True,\n",
        "        truncation=True,\n",
        "        return_attention_mask=True,\n",
        "        return_token_type_ids=False,\n",
        "        return_tensors='pt'\n",
        "       )\n",
        "           \n",
        "    return {\n",
        "        'tweets_text':tweet,\n",
        "        'input_ids':encoding['input_ids'].flatten(),\n",
        "        'attention_mask':encoding['attention_mask'].flatten(),\n",
        "        'targets' : torch.tensor(targets,dtype=torch.long)\n",
        "    }"
      ],
      "execution_count": null,
      "outputs": []
    },
    {
      "cell_type": "markdown",
      "metadata": {
        "id": "bYMtjin_Rb2I",
        "papermill": {
          "duration": 0.088386,
          "end_time": "2020-11-06T10:05:24.244230",
          "exception": false,
          "start_time": "2020-11-06T10:05:24.155844",
          "status": "completed"
        },
        "tags": []
      },
      "source": [
        "### **Let's split the train data**"
      ]
    },
    {
      "cell_type": "code",
      "metadata": {
        "execution": {
          "iopub.execute_input": "2020-11-06T10:05:24.401656Z",
          "iopub.status.busy": "2020-11-06T10:05:24.400012Z",
          "iopub.status.idle": "2020-11-06T10:05:24.413103Z",
          "shell.execute_reply": "2020-11-06T10:05:24.413646Z"
        },
        "id": "Okb_UG-tRWXL",
        "papermill": {
          "duration": 0.1002,
          "end_time": "2020-11-06T10:05:24.413771",
          "exception": false,
          "start_time": "2020-11-06T10:05:24.313571",
          "status": "completed"
        },
        "tags": [],
        "outputId": "53995734-9db9-456c-f453-cbd619ec420e"
      },
      "source": [
        "df_train,df_val=train_test_split(train_df,test_size=0.15 ,random_state=123)\n",
        "\n",
        "print('Print the shape of datasets...')\n",
        "print(f'Training dataset : {df_train.shape} ')\n",
        "print(f'Testing dataset : {test_df.shape}') \n",
        "print(f'Validation dataset : {df_val.shape}')"
      ],
      "execution_count": null,
      "outputs": [
        {
          "output_type": "stream",
          "text": [
            "Print the shape of datasets...\n",
            "Training dataset : (34983, 4) \n",
            "Testing dataset : (3798, 4)\n",
            "Validation dataset : (6174, 4)\n"
          ],
          "name": "stdout"
        }
      ]
    },
    {
      "cell_type": "markdown",
      "metadata": {
        "id": "g2s6_S__cEzU",
        "papermill": {
          "duration": 0.0907,
          "end_time": "2020-11-06T10:05:24.575957",
          "exception": false,
          "start_time": "2020-11-06T10:05:24.485257",
          "status": "completed"
        },
        "tags": []
      },
      "source": [
        "Create a function for **Data loader**"
      ]
    },
    {
      "cell_type": "code",
      "metadata": {
        "execution": {
          "iopub.execute_input": "2020-11-06T10:05:24.746259Z",
          "iopub.status.busy": "2020-11-06T10:05:24.745074Z",
          "iopub.status.idle": "2020-11-06T10:05:24.758288Z",
          "shell.execute_reply": "2020-11-06T10:05:24.757710Z"
        },
        "id": "DM69L3afSzx6",
        "papermill": {
          "duration": 0.096425,
          "end_time": "2020-11-06T10:05:24.758411",
          "exception": false,
          "start_time": "2020-11-06T10:05:24.661986",
          "status": "completed"
        },
        "tags": []
      },
      "source": [
        "batch_size=8\n",
        "Max_length= 120\n",
        "def data_loader(df,tokenizer, max_length, batch):\n",
        "  ds=tweets_Dataset(\n",
        "      tweets=df.OriginalTweet.to_numpy(),\n",
        "      targets=df.Sentiment.to_numpy(),\n",
        "      tokenizer=tokenizer,\n",
        "      max_length=Max_length\n",
        "  )\n",
        "\n",
        "  return DataLoader(\n",
        "      ds,\n",
        "      batch_size=batch_size,\n",
        "      num_workers=4\n",
        "  )\n",
        "\n",
        "# Load datasets\n",
        "train_DataLoader=data_loader(df_train, ALBERT_tokenizer,Max_length,batch_size)\n",
        "test_DataLoader=data_loader(test_df, ALBERT_tokenizer,Max_length,batch_size)\n",
        "valid_DataLoader=data_loader(df_val, ALBERT_tokenizer,Max_length,batch_size)"
      ],
      "execution_count": null,
      "outputs": []
    },
    {
      "cell_type": "markdown",
      "metadata": {
        "id": "cd-ombgDeb3o",
        "papermill": {
          "duration": 0.071742,
          "end_time": "2020-11-06T10:05:24.907808",
          "exception": false,
          "start_time": "2020-11-06T10:05:24.836066",
          "status": "completed"
        },
        "tags": []
      },
      "source": [
        "#### Let's have a look at an example batch from **training DataLoader**"
      ]
    },
    {
      "cell_type": "code",
      "metadata": {
        "execution": {
          "iopub.execute_input": "2020-11-06T10:05:25.106541Z",
          "iopub.status.busy": "2020-11-06T10:05:25.105653Z",
          "iopub.status.idle": "2020-11-06T10:05:25.321795Z",
          "shell.execute_reply": "2020-11-06T10:05:25.323029Z"
        },
        "id": "TPpIwB-idSF0",
        "papermill": {
          "duration": 0.329891,
          "end_time": "2020-11-06T10:05:25.323276",
          "exception": false,
          "start_time": "2020-11-06T10:05:24.993385",
          "status": "completed"
        },
        "tags": [],
        "outputId": "6765f1eb-613e-4197-ff94-e24ad91e789c"
      },
      "source": [
        "ALBERT_data=next(iter(train_DataLoader))\n",
        "ALBERT_data.keys()"
      ],
      "execution_count": null,
      "outputs": [
        {
          "output_type": "execute_result",
          "data": {
            "text/plain": [
              "dict_keys(['tweets_text', 'input_ids', 'attention_mask', 'targets'])"
            ]
          },
          "metadata": {
            "tags": []
          },
          "execution_count": 29
        }
      ]
    },
    {
      "cell_type": "code",
      "metadata": {
        "execution": {
          "iopub.execute_input": "2020-11-06T10:05:25.552925Z",
          "iopub.status.busy": "2020-11-06T10:05:25.551848Z",
          "iopub.status.idle": "2020-11-06T10:05:25.558153Z",
          "shell.execute_reply": "2020-11-06T10:05:25.559002Z"
        },
        "id": "6FYF41chela5",
        "papermill": {
          "duration": 0.128399,
          "end_time": "2020-11-06T10:05:25.559213",
          "exception": false,
          "start_time": "2020-11-06T10:05:25.430814",
          "status": "completed"
        },
        "tags": [],
        "outputId": "c27ac8a7-91e1-4724-a696-b1c8bfdea56e"
      },
      "source": [
        "print('Shape of the ALBERT_data keys...')\n",
        "print(f\"Input_ids : {ALBERT_data['input_ids'].shape}\")\n",
        "print(f\"Attention_mask : {ALBERT_data['attention_mask'].shape}\")\n",
        "print(f\"targets : {ALBERT_data['targets'].shape}\")"
      ],
      "execution_count": null,
      "outputs": [
        {
          "output_type": "stream",
          "text": [
            "Shape of the ALBERT_data keys...\n",
            "Input_ids : torch.Size([8, 120])\n",
            "Attention_mask : torch.Size([8, 120])\n",
            "targets : torch.Size([8])\n"
          ],
          "name": "stdout"
        }
      ]
    },
    {
      "cell_type": "markdown",
      "metadata": {
        "id": "taNFShYD7XvF",
        "papermill": {
          "duration": 0.108073,
          "end_time": "2020-11-06T10:05:25.777122",
          "exception": false,
          "start_time": "2020-11-06T10:05:25.669049",
          "status": "completed"
        },
        "tags": []
      },
      "source": [
        "Now move the batch training data to the GPU"
      ]
    },
    {
      "cell_type": "code",
      "metadata": {
        "execution": {
          "iopub.execute_input": "2020-11-06T10:05:25.953680Z",
          "iopub.status.busy": "2020-11-06T10:05:25.952858Z",
          "iopub.status.idle": "2020-11-06T10:05:31.197226Z",
          "shell.execute_reply": "2020-11-06T10:05:31.197858Z"
        },
        "id": "XzMqmRwd7Ppp",
        "papermill": {
          "duration": 5.327214,
          "end_time": "2020-11-06T10:05:31.198021",
          "exception": false,
          "start_time": "2020-11-06T10:05:25.870807",
          "status": "completed"
        },
        "tags": [],
        "outputId": "d3c87fa2-6eb5-474a-d31b-87904222dd51"
      },
      "source": [
        "input_ids = ALBERT_data['input_ids'].to(device)\n",
        "attention_mask = ALBERT_data['attention_mask'].to(device)\n",
        "targets=ALBERT_data['targets'].to(device)\n",
        "print(input_ids.shape)      # batch size x seq length\n",
        "print(attention_mask.shape) # batch size x seq length"
      ],
      "execution_count": null,
      "outputs": [
        {
          "output_type": "stream",
          "text": [
            "torch.Size([8, 120])\n",
            "torch.Size([8, 120])\n"
          ],
          "name": "stdout"
        }
      ]
    },
    {
      "cell_type": "markdown",
      "metadata": {
        "id": "yW5e6-eXfW1_",
        "papermill": {
          "duration": 0.071311,
          "end_time": "2020-11-06T10:05:31.341674",
          "exception": false,
          "start_time": "2020-11-06T10:05:31.270363",
          "status": "completed"
        },
        "tags": []
      },
      "source": [
        "## Now build a Sentiment Classifier"
      ]
    },
    {
      "cell_type": "markdown",
      "metadata": {
        "id": "u8vPb96JD2SE",
        "papermill": {
          "duration": 0.070726,
          "end_time": "2020-11-06T10:05:31.484415",
          "exception": false,
          "start_time": "2020-11-06T10:05:31.413689",
          "status": "completed"
        },
        "tags": []
      },
      "source": [
        "Let's load basic ALBERT model"
      ]
    },
    {
      "cell_type": "code",
      "metadata": {
        "execution": {
          "iopub.execute_input": "2020-11-06T10:05:31.636985Z",
          "iopub.status.busy": "2020-11-06T10:05:31.636366Z",
          "iopub.status.idle": "2020-11-06T10:05:41.049613Z",
          "shell.execute_reply": "2020-11-06T10:05:41.049020Z"
        },
        "id": "Sx7c3Zx_D0tx",
        "papermill": {
          "duration": 9.493246,
          "end_time": "2020-11-06T10:05:41.049725",
          "exception": false,
          "start_time": "2020-11-06T10:05:31.556479",
          "status": "completed"
        },
        "tags": [],
        "outputId": "cd08d13a-03c6-4e65-f77d-27535c9b58f2"
      },
      "source": [
        "ALBERT_model = AlbertModel.from_pretrained(pre_trained_ALBERTmodel)\n",
        "ALBERT_model=ALBERT_model.to(device)"
      ],
      "execution_count": null,
      "outputs": [
        {
          "output_type": "display_data",
          "data": {
            "application/vnd.jupyter.widget-view+json": {
              "model_id": "54cf02f47583427a9ad2acacf167f1f6",
              "version_major": 2,
              "version_minor": 0
            },
            "text/plain": [
              "HBox(children=(FloatProgress(value=0.0, description='Downloading', max=684.0, style=ProgressStyle(description_…"
            ]
          },
          "metadata": {
            "tags": []
          }
        },
        {
          "output_type": "stream",
          "text": [
            "\n"
          ],
          "name": "stdout"
        },
        {
          "output_type": "display_data",
          "data": {
            "application/vnd.jupyter.widget-view+json": {
              "model_id": "a879a1e164d047478331277a551db30e",
              "version_major": 2,
              "version_minor": 0
            },
            "text/plain": [
              "HBox(children=(FloatProgress(value=0.0, description='Downloading', max=47376696.0, style=ProgressStyle(descrip…"
            ]
          },
          "metadata": {
            "tags": []
          }
        },
        {
          "output_type": "stream",
          "text": [
            "\n"
          ],
          "name": "stdout"
        }
      ]
    },
    {
      "cell_type": "code",
      "metadata": {
        "execution": {
          "iopub.execute_input": "2020-11-06T10:05:41.206504Z",
          "iopub.status.busy": "2020-11-06T10:05:41.205529Z",
          "iopub.status.idle": "2020-11-06T10:05:41.208547Z",
          "shell.execute_reply": "2020-11-06T10:05:41.208071Z"
        },
        "id": "BrXh5HjbJzKn",
        "papermill": {
          "duration": 0.083722,
          "end_time": "2020-11-06T10:05:41.208645",
          "exception": false,
          "start_time": "2020-11-06T10:05:41.124923",
          "status": "completed"
        },
        "tags": []
      },
      "source": [
        "n_classes=5"
      ],
      "execution_count": null,
      "outputs": []
    },
    {
      "cell_type": "markdown",
      "metadata": {
        "id": "6i37Rx0tgD9Q",
        "papermill": {
          "duration": 0.075219,
          "end_time": "2020-11-06T10:05:41.360431",
          "exception": false,
          "start_time": "2020-11-06T10:05:41.285212",
          "status": "completed"
        },
        "tags": []
      },
      "source": [
        "Now create a classifier that uses ALBERT model"
      ]
    },
    {
      "cell_type": "code",
      "metadata": {
        "execution": {
          "iopub.execute_input": "2020-11-06T10:05:41.525774Z",
          "iopub.status.busy": "2020-11-06T10:05:41.523982Z",
          "iopub.status.idle": "2020-11-06T10:05:41.526449Z",
          "shell.execute_reply": "2020-11-06T10:05:41.526931Z"
        },
        "id": "cdVbCZqafqOO",
        "papermill": {
          "duration": 0.089928,
          "end_time": "2020-11-06T10:05:41.527048",
          "exception": false,
          "start_time": "2020-11-06T10:05:41.437120",
          "status": "completed"
        },
        "tags": []
      },
      "source": [
        "class ALBERT_SentimentClassifier(nn.Module):\n",
        "   def __init__(self, n_classes):\n",
        "     super(ALBERT_SentimentClassifier, self).__init__()\n",
        "     self.albert = AlbertModel.from_pretrained(pre_trained_ALBERTmodel)\n",
        "     self.drop = nn.Dropout(p=0.35)\n",
        "     #self.hidden=nn.Linear(self.albert.config.hidden_size,128)\n",
        "     self.out = nn.Linear(self.albert.config.hidden_size, n_classes)\n",
        "     #self.softmax=nn.Softmax(dim=1)\n",
        "   def forward(self, input_ids, attention_mask):\n",
        "     _, pooled_output = self.albert(\n",
        "         input_ids=input_ids,\n",
        "         attention_mask=attention_mask\n",
        "    )\n",
        "     output = self.drop(pooled_output)\n",
        "     #output=self.hidden(output)\n",
        "     output=self.out(output)\n",
        "     #output=self.softmax(output)\n",
        "     return output"
      ],
      "execution_count": null,
      "outputs": []
    },
    {
      "cell_type": "markdown",
      "metadata": {
        "id": "-OfWP3Eshh5Y",
        "papermill": {
          "duration": 0.07636,
          "end_time": "2020-11-06T10:05:41.679156",
          "exception": false,
          "start_time": "2020-11-06T10:05:41.602796",
          "status": "completed"
        },
        "tags": []
      },
      "source": [
        "The **pooled_output** is the summary of the tweet.\n",
        "We are using a **dropout** layer for some regularization and 2 **fully-connected** layers for our output."
      ]
    },
    {
      "cell_type": "markdown",
      "metadata": {
        "id": "SaoNdyMVIIEU",
        "papermill": {
          "duration": 0.078283,
          "end_time": "2020-11-06T10:05:41.836920",
          "exception": false,
          "start_time": "2020-11-06T10:05:41.758637",
          "status": "completed"
        },
        "tags": []
      },
      "source": [
        "Let’s create an instance and move it to the GPU"
      ]
    },
    {
      "cell_type": "code",
      "metadata": {
        "execution": {
          "iopub.execute_input": "2020-11-06T10:05:41.996259Z",
          "iopub.status.busy": "2020-11-06T10:05:41.995591Z",
          "iopub.status.idle": "2020-11-06T10:05:44.185722Z",
          "shell.execute_reply": "2020-11-06T10:05:44.185121Z"
        },
        "id": "ZuRR-PEDDpCZ",
        "papermill": {
          "duration": 2.273227,
          "end_time": "2020-11-06T10:05:44.185863",
          "exception": false,
          "start_time": "2020-11-06T10:05:41.912636",
          "status": "completed"
        },
        "tags": []
      },
      "source": [
        "ALBERT_model = ALBERT_SentimentClassifier(len(class_names))\n",
        "ALBERT_model=ALBERT_model.to(device)"
      ],
      "execution_count": null,
      "outputs": []
    },
    {
      "cell_type": "code",
      "metadata": {
        "execution": {
          "iopub.execute_input": "2020-11-06T10:05:44.344669Z",
          "iopub.status.busy": "2020-11-06T10:05:44.344086Z",
          "iopub.status.idle": "2020-11-06T10:05:45.223641Z",
          "shell.execute_reply": "2020-11-06T10:05:45.224413Z"
        },
        "id": "LxeJYwEFIHdu",
        "papermill": {
          "duration": 0.962139,
          "end_time": "2020-11-06T10:05:45.224599",
          "exception": false,
          "start_time": "2020-11-06T10:05:44.262460",
          "status": "completed"
        },
        "tags": [],
        "outputId": "2c50a2c8-9176-4c90-9506-f8ab5df0bd8a"
      },
      "source": [
        "F.softmax(ALBERT_model(input_ids,attention_mask), dim=1).to(device)"
      ],
      "execution_count": null,
      "outputs": [
        {
          "output_type": "execute_result",
          "data": {
            "text/plain": [
              "tensor([[0.1050, 0.0590, 0.6443, 0.0980, 0.0937],\n",
              "        [0.3318, 0.0885, 0.2283, 0.2023, 0.1491],\n",
              "        [0.2581, 0.1250, 0.2268, 0.1690, 0.2211],\n",
              "        [0.1064, 0.2080, 0.2442, 0.1227, 0.3187],\n",
              "        [0.1745, 0.1019, 0.2369, 0.2367, 0.2500],\n",
              "        [0.2968, 0.1001, 0.2746, 0.1035, 0.2250],\n",
              "        [0.1979, 0.1153, 0.2509, 0.1907, 0.2453],\n",
              "        [0.3111, 0.1349, 0.2638, 0.1218, 0.1684]], device='cuda:0',\n",
              "       grad_fn=<SoftmaxBackward>)"
            ]
          },
          "metadata": {
            "tags": []
          },
          "execution_count": 36
        }
      ]
    },
    {
      "cell_type": "code",
      "metadata": {
        "execution": {
          "iopub.execute_input": "2020-11-06T10:05:45.483166Z",
          "iopub.status.busy": "2020-11-06T10:05:45.482385Z",
          "iopub.status.idle": "2020-11-06T10:05:45.487154Z",
          "shell.execute_reply": "2020-11-06T10:05:45.486547Z"
        },
        "id": "nmvAiuDMPyu5",
        "papermill": {
          "duration": 0.143364,
          "end_time": "2020-11-06T10:05:45.487268",
          "exception": false,
          "start_time": "2020-11-06T10:05:45.343904",
          "status": "completed"
        },
        "tags": [],
        "outputId": "9b317cd6-bbea-48dc-c743-962d2b406e0d"
      },
      "source": [
        "ALBERT_model"
      ],
      "execution_count": null,
      "outputs": [
        {
          "output_type": "execute_result",
          "data": {
            "text/plain": [
              "ALBERT_SentimentClassifier(\n",
              "  (albert): AlbertModel(\n",
              "    (embeddings): AlbertEmbeddings(\n",
              "      (word_embeddings): Embedding(30000, 128, padding_idx=0)\n",
              "      (position_embeddings): Embedding(512, 128)\n",
              "      (token_type_embeddings): Embedding(2, 128)\n",
              "      (LayerNorm): LayerNorm((128,), eps=1e-12, elementwise_affine=True)\n",
              "      (dropout): Dropout(p=0, inplace=False)\n",
              "    )\n",
              "    (encoder): AlbertTransformer(\n",
              "      (embedding_hidden_mapping_in): Linear(in_features=128, out_features=768, bias=True)\n",
              "      (albert_layer_groups): ModuleList(\n",
              "        (0): AlbertLayerGroup(\n",
              "          (albert_layers): ModuleList(\n",
              "            (0): AlbertLayer(\n",
              "              (full_layer_layer_norm): LayerNorm((768,), eps=1e-12, elementwise_affine=True)\n",
              "              (attention): AlbertAttention(\n",
              "                (query): Linear(in_features=768, out_features=768, bias=True)\n",
              "                (key): Linear(in_features=768, out_features=768, bias=True)\n",
              "                (value): Linear(in_features=768, out_features=768, bias=True)\n",
              "                (attention_dropout): Dropout(p=0, inplace=False)\n",
              "                (output_dropout): Dropout(p=0, inplace=False)\n",
              "                (dense): Linear(in_features=768, out_features=768, bias=True)\n",
              "                (LayerNorm): LayerNorm((768,), eps=1e-12, elementwise_affine=True)\n",
              "              )\n",
              "              (ffn): Linear(in_features=768, out_features=3072, bias=True)\n",
              "              (ffn_output): Linear(in_features=3072, out_features=768, bias=True)\n",
              "              (dropout): Dropout(p=0, inplace=False)\n",
              "            )\n",
              "          )\n",
              "        )\n",
              "      )\n",
              "    )\n",
              "    (pooler): Linear(in_features=768, out_features=768, bias=True)\n",
              "    (pooler_activation): Tanh()\n",
              "  )\n",
              "  (drop): Dropout(p=0.35, inplace=False)\n",
              "  (out): Linear(in_features=768, out_features=5, bias=True)\n",
              ")"
            ]
          },
          "metadata": {
            "tags": []
          },
          "execution_count": 37
        }
      ]
    },
    {
      "cell_type": "markdown",
      "metadata": {
        "id": "kXIvOUwQwgFL",
        "papermill": {
          "duration": 0.084524,
          "end_time": "2020-11-06T10:05:45.649845",
          "exception": false,
          "start_time": "2020-11-06T10:05:45.565321",
          "status": "completed"
        },
        "tags": []
      },
      "source": [
        "Let's train our ALBERT Sentiment classifier"
      ]
    },
    {
      "cell_type": "markdown",
      "metadata": {
        "id": "kNPjWUIGwrY3",
        "papermill": {
          "duration": 0.080479,
          "end_time": "2020-11-06T10:05:45.815361",
          "exception": false,
          "start_time": "2020-11-06T10:05:45.734882",
          "status": "completed"
        },
        "tags": []
      },
      "source": [
        "We will use **AdamW** optimizer for correcting weight decay. We will also use, **linear scheduler **with no warm up steps:"
      ]
    },
    {
      "cell_type": "code",
      "metadata": {
        "execution": {
          "iopub.execute_input": "2020-11-06T10:05:45.978766Z",
          "iopub.status.busy": "2020-11-06T10:05:45.978169Z",
          "iopub.status.idle": "2020-11-06T10:05:45.982691Z",
          "shell.execute_reply": "2020-11-06T10:05:45.982198Z"
        },
        "id": "7Bat3sYUlpFU",
        "papermill": {
          "duration": 0.088616,
          "end_time": "2020-11-06T10:05:45.982801",
          "exception": false,
          "start_time": "2020-11-06T10:05:45.894185",
          "status": "completed"
        },
        "tags": []
      },
      "source": [
        "epochs=5\n",
        "optimizer=AdamW(ALBERT_model.parameters(),lr=2e-5,correct_bias=False)\n",
        "total_steps=len(train_DataLoader)*epochs\n",
        "\n",
        "scheduler=get_linear_schedule_with_warmup(\n",
        "    optimizer,\n",
        "    num_warmup_steps=0,\n",
        "    num_training_steps=total_steps\n",
        ")\n",
        "\n",
        "loss_fn=nn.CrossEntropyLoss().to(device)"
      ],
      "execution_count": null,
      "outputs": []
    },
    {
      "cell_type": "markdown",
      "metadata": {
        "id": "6M3Coj7FxB3I",
        "papermill": {
          "duration": 0.080353,
          "end_time": "2020-11-06T10:05:46.140974",
          "exception": false,
          "start_time": "2020-11-06T10:05:46.060621",
          "status": "completed"
        },
        "tags": []
      },
      "source": [
        "Now write a helper function to train our model:"
      ]
    },
    {
      "cell_type": "code",
      "metadata": {
        "execution": {
          "iopub.execute_input": "2020-11-06T10:05:46.315550Z",
          "iopub.status.busy": "2020-11-06T10:05:46.314616Z",
          "iopub.status.idle": "2020-11-06T10:05:46.317354Z",
          "shell.execute_reply": "2020-11-06T10:05:46.317829Z"
        },
        "id": "V2sAG4Puw-me",
        "papermill": {
          "duration": 0.093656,
          "end_time": "2020-11-06T10:05:46.317980",
          "exception": false,
          "start_time": "2020-11-06T10:05:46.224324",
          "status": "completed"
        },
        "tags": []
      },
      "source": [
        "def train(\n",
        "  model,\n",
        "  data_loader,\n",
        "  loss_fn,\n",
        "  optimizer,\n",
        "  device,\n",
        "  scheduler,\n",
        "  n_observations\n",
        "):\n",
        "  model = model.train()\n",
        "  losses = []\n",
        "  correct_predictions = 0\n",
        "  for d in data_loader:\n",
        "    input_ids = d[\"input_ids\"].to(device)\n",
        "    attention_mask = d[\"attention_mask\"].to(device)\n",
        "    targets = d[\"targets\"].to(device)\n",
        "    optimizer.zero_grad()\n",
        "    #Feed data to BERT model\n",
        "    outputs = model(\n",
        "      input_ids=input_ids,\n",
        "      attention_mask=attention_mask\n",
        "      )\n",
        "    _, preds = torch.max(outputs, dim=1)\n",
        "    loss = loss_fn(outputs, targets)\n",
        "    correct_predictions += torch.sum(preds == targets)\n",
        "    losses.append(loss.item())\n",
        "    torch.autograd.set_detect_anomaly(True)\n",
        "    loss.backward()\n",
        "    nn.utils.clip_grad_norm_(model.parameters(), max_norm=1.0)     # Clip gradients to avoid exploding gradient problem\n",
        "    optimizer.step()\n",
        "    scheduler.step()\n",
        "  return correct_predictions.double() / n_observations, np.mean(losses)"
      ],
      "execution_count": null,
      "outputs": []
    },
    {
      "cell_type": "markdown",
      "metadata": {
        "id": "Ae2HFXy2xpfv",
        "papermill": {
          "duration": 0.078303,
          "end_time": "2020-11-06T10:05:46.495407",
          "exception": false,
          "start_time": "2020-11-06T10:05:46.417104",
          "status": "completed"
        },
        "tags": []
      },
      "source": [
        "Similarly, write a function to evaluate our model:"
      ]
    },
    {
      "cell_type": "code",
      "metadata": {
        "execution": {
          "iopub.execute_input": "2020-11-06T10:05:46.661773Z",
          "iopub.status.busy": "2020-11-06T10:05:46.660833Z",
          "iopub.status.idle": "2020-11-06T10:05:46.664221Z",
          "shell.execute_reply": "2020-11-06T10:05:46.663716Z"
        },
        "id": "YvobVuNcxk1d",
        "papermill": {
          "duration": 0.09104,
          "end_time": "2020-11-06T10:05:46.664339",
          "exception": false,
          "start_time": "2020-11-06T10:05:46.573299",
          "status": "completed"
        },
        "tags": []
      },
      "source": [
        "def eval_model(model, data_loader,device,loss_fn, n_observations):\n",
        "  model = model.eval()\n",
        "  losses = []\n",
        "  correct_predictions = 0\n",
        "  with torch.no_grad():\n",
        "    for d in data_loader:\n",
        "      input_ids = d[\"input_ids\"].to(device)\n",
        "      attention_mask = d[\"attention_mask\"].to(device)\n",
        "      targets = d[\"targets\"].to(device)\n",
        "      # Feed data to BERT model\n",
        "      outputs = model(\n",
        "        input_ids=input_ids,\n",
        "        attention_mask=attention_mask,\n",
        "      )\n",
        "      _, preds = torch.max(outputs, dim=1)\n",
        "      loss = loss_fn(outputs, targets)\n",
        "      correct_predictions += torch.sum(preds == targets)\n",
        "      losses.append(loss.item())\n",
        "  return correct_predictions.double() / n_observations, np.mean(losses)"
      ],
      "execution_count": null,
      "outputs": []
    },
    {
      "cell_type": "markdown",
      "metadata": {
        "id": "GBVXPTDRyNRu",
        "papermill": {
          "duration": 0.083489,
          "end_time": "2020-11-06T10:05:46.825568",
          "exception": false,
          "start_time": "2020-11-06T10:05:46.742079",
          "status": "completed"
        },
        "tags": []
      },
      "source": [
        "Using above helper functions, write our training loop & store training history:"
      ]
    },
    {
      "cell_type": "code",
      "metadata": {
        "execution": {
          "iopub.execute_input": "2020-11-06T10:05:46.991310Z",
          "iopub.status.busy": "2020-11-06T10:05:46.990335Z",
          "iopub.status.idle": "2020-11-06T14:51:45.550853Z",
          "shell.execute_reply": "2020-11-06T14:51:45.549543Z"
        },
        "id": "S9kTBlF3yH1w",
        "papermill": {
          "duration": 17158.647278,
          "end_time": "2020-11-06T14:51:45.551041",
          "exception": false,
          "start_time": "2020-11-06T10:05:46.903763",
          "status": "completed"
        },
        "tags": [],
        "outputId": "7aeb00e6-2eac-4aa2-f6e0-acc3bb3c7690"
      },
      "source": [
        "%%time\n",
        "history = defaultdict(list)\n",
        "best_accuracy = 0\n",
        "for epoch in range(epochs):\n",
        "  print(f'Epoch {epoch + 1}/{epochs}')\n",
        "  print('-' * 10)\n",
        "  train_acc, train_loss = train(\n",
        "    ALBERT_model,\n",
        "    train_DataLoader,\n",
        "    loss_fn,\n",
        "    optimizer,\n",
        "    device,\n",
        "    scheduler,\n",
        "    len(df_train)\n",
        "  )\n",
        "  print(f'Train loss {train_loss} accuracy {train_acc}')\n",
        "  val_acc, val_loss = eval_model(\n",
        "    ALBERT_model,\n",
        "    valid_DataLoader,\n",
        "    device,\n",
        "    loss_fn,\n",
        "    len(df_val)\n",
        "  )\n",
        "  print(f'Validation  loss {val_loss} accuracy {val_acc}')\n",
        "  print()\n",
        "  history['train_acc'].append(train_acc)\n",
        "  history['train_loss'].append(train_loss)\n",
        "  history['val_acc'].append(val_acc)\n",
        "  history['val_loss'].append(val_loss)\n",
        "  if val_acc > best_accuracy:\n",
        "    torch.save(ALBERT_model.state_dict(), 'best_model_state.bin')\n",
        "    best_accuracy = val_acc"
      ],
      "execution_count": null,
      "outputs": [
        {
          "output_type": "stream",
          "text": [
            "Epoch 1/5\n",
            "----------\n",
            "Train loss 1.5848741253862222 accuracy 0.26958808564159736\n",
            "Validation  loss 1.5803092183844414 accuracy 0.27810171687722707\n",
            "\n",
            "Epoch 2/5\n",
            "----------\n",
            "Train loss 1.1981933183530198 accuracy 0.4826058371208873\n",
            "Validation  loss 0.8319687635826014 accuracy 0.6964690638160026\n",
            "\n",
            "Epoch 3/5\n",
            "----------\n",
            "Train loss 0.7356694591210986 accuracy 0.7388731669668125\n",
            "Validation  loss 0.7163470028585952 accuracy 0.7445740200842241\n",
            "\n",
            "Epoch 4/5\n",
            "----------\n",
            "Train loss 0.5761793230803164 accuracy 0.8152817082582969\n",
            "Validation  loss 0.711407093729322 accuracy 0.7776158082280531\n",
            "\n",
            "Epoch 5/5\n",
            "----------\n",
            "Train loss 0.5051234618276349 accuracy 0.8635051310636594\n",
            "Validation  loss 0.8149283281063004 accuracy 0.7954324586977648\n",
            "\n",
            "CPU times: user 4h 23min 2s, sys: 18min 57s, total: 4h 42min\n",
            "Wall time: 4h 45min 58s\n"
          ],
          "name": "stdout"
        }
      ]
    },
    {
      "cell_type": "markdown",
      "metadata": {
        "id": "7BQwq7EZGlVh",
        "papermill": {
          "duration": 0.081153,
          "end_time": "2020-11-06T14:51:45.727370",
          "exception": false,
          "start_time": "2020-11-06T14:51:45.646217",
          "status": "completed"
        },
        "tags": []
      },
      "source": [
        "Let's look at **training vs validation accuracy**:"
      ]
    },
    {
      "cell_type": "code",
      "metadata": {
        "execution": {
          "iopub.execute_input": "2020-11-06T14:51:45.900944Z",
          "iopub.status.busy": "2020-11-06T14:51:45.899823Z",
          "iopub.status.idle": "2020-11-06T14:51:46.488914Z",
          "shell.execute_reply": "2020-11-06T14:51:46.489847Z"
        },
        "id": "v4p3a075GmQQ",
        "papermill": {
          "duration": 0.678627,
          "end_time": "2020-11-06T14:51:46.490151",
          "exception": false,
          "start_time": "2020-11-06T14:51:45.811524",
          "status": "completed"
        },
        "tags": [],
        "outputId": "59159ca9-6b5e-44ee-f894-73a6e3da0b91"
      },
      "source": [
        "plt.figure(figsize=(12,6))\n",
        "plt.plot(history['train_acc'], label='train accuracy')\n",
        "plt.plot(history['val_acc'], label='validation accuracy')\n",
        "plt.title('Training history')\n",
        "plt.ylabel('Accuracy')\n",
        "plt.xlabel('Epoch')\n",
        "plt.legend()\n",
        "plt.ylim([0, 1]);"
      ],
      "execution_count": null,
      "outputs": [
        {
          "output_type": "display_data",
          "data": {
            "image/png": "[encoded data removed]",
            "text/plain": [
              "<Figure size 864x432 with 1 Axes>"
            ]
          },
          "metadata": {
            "tags": [],
            "image/png": {
              "height": 391,
              "width": 727
            }
          }
        }
      ]
    },
    {
      "cell_type": "markdown",
      "metadata": {
        "id": "OHAk2P0TG4e3",
        "papermill": {
          "duration": 0.119701,
          "end_time": "2020-11-06T14:51:46.756687",
          "exception": false,
          "start_time": "2020-11-06T14:51:46.636986",
          "status": "completed"
        },
        "tags": []
      },
      "source": [
        "**Model Evaluation**"
      ]
    },
    {
      "cell_type": "markdown",
      "metadata": {
        "id": "BB2PuVPdG_6z",
        "papermill": {
          "duration": 0.121124,
          "end_time": "2020-11-06T14:51:47.006153",
          "exception": false,
          "start_time": "2020-11-06T14:51:46.885029",
          "status": "completed"
        },
        "tags": []
      },
      "source": [
        "Let's see how good our model on unseen data."
      ]
    },
    {
      "cell_type": "code",
      "metadata": {
        "execution": {
          "iopub.execute_input": "2020-11-06T14:51:47.256615Z",
          "iopub.status.busy": "2020-11-06T14:51:47.255733Z",
          "iopub.status.idle": "2020-11-06T14:52:06.727251Z",
          "shell.execute_reply": "2020-11-06T14:52:06.726631Z"
        },
        "id": "XYeujMEtG1oL",
        "papermill": {
          "duration": 19.60186,
          "end_time": "2020-11-06T14:52:06.727375",
          "exception": false,
          "start_time": "2020-11-06T14:51:47.125515",
          "status": "completed"
        },
        "tags": []
      },
      "source": [
        "test_acc, _ = eval_model(\n",
        "  ALBERT_model,\n",
        "  test_DataLoader,\n",
        "  device,\n",
        "  loss_fn,\n",
        "  len(test_df)\n",
        ")"
      ],
      "execution_count": null,
      "outputs": []
    },
    {
      "cell_type": "code",
      "metadata": {
        "execution": {
          "iopub.execute_input": "2020-11-06T14:52:06.971231Z",
          "iopub.status.busy": "2020-11-06T14:52:06.970159Z",
          "iopub.status.idle": "2020-11-06T14:52:06.976092Z",
          "shell.execute_reply": "2020-11-06T14:52:06.977081Z"
        },
        "papermill": {
          "duration": 0.155431,
          "end_time": "2020-11-06T14:52:06.977693",
          "exception": false,
          "start_time": "2020-11-06T14:52:06.822262",
          "status": "completed"
        },
        "tags": [],
        "id": "S4EruWcs6llZ",
        "outputId": "3a98ac06-f5e8-4609-9d08-159357d4efb0"
      },
      "source": [
        "test_acc.item()"
      ],
      "execution_count": null,
      "outputs": [
        {
          "output_type": "execute_result",
          "data": {
            "text/plain": [
              "0.7746182201158504"
            ]
          },
          "metadata": {
            "tags": []
          },
          "execution_count": 44
        }
      ]
    },
    {
      "cell_type": "markdown",
      "metadata": {
        "id": "zMX011_HHXvT",
        "papermill": {
          "duration": 0.121173,
          "end_time": "2020-11-06T14:52:07.225117",
          "exception": false,
          "start_time": "2020-11-06T14:52:07.103944",
          "status": "completed"
        },
        "tags": []
      },
      "source": [
        "Now we will write a function to get the predictions from our model:"
      ]
    },
    {
      "cell_type": "code",
      "metadata": {
        "execution": {
          "iopub.execute_input": "2020-11-06T14:52:07.508044Z",
          "iopub.status.busy": "2020-11-06T14:52:07.506971Z",
          "iopub.status.idle": "2020-11-06T14:52:07.515029Z",
          "shell.execute_reply": "2020-11-06T14:52:07.516210Z"
        },
        "id": "9Co4N5QpHJj0",
        "papermill": {
          "duration": 0.169644,
          "end_time": "2020-11-06T14:52:07.516417",
          "exception": false,
          "start_time": "2020-11-06T14:52:07.346773",
          "status": "completed"
        },
        "tags": []
      },
      "source": [
        "def get_predictions(model, data_loader):\n",
        "  model = model.eval()\n",
        "  tweets = []\n",
        "  predictions = []\n",
        "  prediction_probs = []\n",
        "  real_values = []\n",
        "\n",
        "  with torch.no_grad():\n",
        "    for d in data_loader:\n",
        "      texts = d[\"tweets_text\"]\n",
        "      input_ids = d[\"input_ids\"].to(device)\n",
        "      attention_mask = d[\"attention_mask\"].to(device)\n",
        "      targets = d[\"targets\"].to(device)\n",
        "      outputs = model(\n",
        "        input_ids=input_ids,\n",
        "        attention_mask=attention_mask\n",
        "      )\n",
        "      _, preds = torch.max(outputs, dim=1)\n",
        "      tweets.extend(texts)\n",
        "      predictions.extend(preds)\n",
        "      prediction_probs.extend(outputs)\n",
        "      real_values.extend(targets)\n",
        "\n",
        "  predictions = torch.stack(predictions).cpu()\n",
        "  prediction_probs = torch.stack(prediction_probs).cpu()\n",
        "  real_values = torch.stack(real_values).cpu()\n",
        "  return tweets, predictions, prediction_probs, real_values"
      ],
      "execution_count": null,
      "outputs": []
    },
    {
      "cell_type": "code",
      "metadata": {
        "execution": {
          "iopub.execute_input": "2020-11-06T14:52:07.703323Z",
          "iopub.status.busy": "2020-11-06T14:52:07.701552Z",
          "iopub.status.idle": "2020-11-06T14:52:26.405205Z",
          "shell.execute_reply": "2020-11-06T14:52:26.405825Z"
        },
        "id": "9SdR4LOwJx8q",
        "papermill": {
          "duration": 18.796364,
          "end_time": "2020-11-06T14:52:26.405999",
          "exception": false,
          "start_time": "2020-11-06T14:52:07.609635",
          "status": "completed"
        },
        "tags": []
      },
      "source": [
        "tweets, y_pred, y_pred_probs, y_test = get_predictions(\n",
        "  ALBERT_model,\n",
        "  test_DataLoader\n",
        ")"
      ],
      "execution_count": null,
      "outputs": []
    },
    {
      "cell_type": "markdown",
      "metadata": {
        "id": "x4ddm6C9KA99",
        "papermill": {
          "duration": 0.093859,
          "end_time": "2020-11-06T14:52:26.605625",
          "exception": false,
          "start_time": "2020-11-06T14:52:26.511766",
          "status": "completed"
        },
        "tags": []
      },
      "source": [
        "Let's have a look at the **classification report**:"
      ]
    },
    {
      "cell_type": "code",
      "metadata": {
        "execution": {
          "iopub.execute_input": "2020-11-06T14:52:26.782804Z",
          "iopub.status.busy": "2020-11-06T14:52:26.781759Z",
          "iopub.status.idle": "2020-11-06T14:52:26.798957Z",
          "shell.execute_reply": "2020-11-06T14:52:26.798451Z"
        },
        "id": "wIXNQa0SJ9f9",
        "papermill": {
          "duration": 0.107405,
          "end_time": "2020-11-06T14:52:26.799078",
          "exception": false,
          "start_time": "2020-11-06T14:52:26.691673",
          "status": "completed"
        },
        "tags": [],
        "outputId": "3ec5c3be-0e0d-41d4-e9c4-f97c25a9b068"
      },
      "source": [
        "class_report=classification_report(y_test, y_pred, target_names=class_names)\n",
        "print(class_report)"
      ],
      "execution_count": null,
      "outputs": [
        {
          "output_type": "stream",
          "text": [
            "                    precision    recall  f1-score   support\n",
            "\n",
            "Extremely Negative       0.85      0.76      0.80       592\n",
            "Extremely Positive       0.89      0.73      0.80       599\n",
            "          Negative       0.72      0.80      0.76      1041\n",
            "           Neutral       0.85      0.81      0.83       619\n",
            "          Positive       0.70      0.76      0.73       947\n",
            "\n",
            "          accuracy                           0.77      3798\n",
            "         macro avg       0.80      0.77      0.78      3798\n",
            "      weighted avg       0.78      0.77      0.78      3798\n",
            "\n"
          ],
          "name": "stdout"
        }
      ]
    },
    {
      "cell_type": "markdown",
      "metadata": {
        "id": "51rQfKE7KJxr",
        "papermill": {
          "duration": 0.088729,
          "end_time": "2020-11-06T14:52:26.997866",
          "exception": false,
          "start_time": "2020-11-06T14:52:26.909137",
          "status": "completed"
        },
        "tags": []
      },
      "source": [
        "Now will plot **confusion matrix**:"
      ]
    },
    {
      "cell_type": "code",
      "metadata": {
        "execution": {
          "iopub.execute_input": "2020-11-06T14:52:27.221415Z",
          "iopub.status.busy": "2020-11-06T14:52:27.220476Z",
          "iopub.status.idle": "2020-11-06T14:52:27.676918Z",
          "shell.execute_reply": "2020-11-06T14:52:27.677516Z"
        },
        "id": "OdbGKRJxKGfD",
        "papermill": {
          "duration": 0.589973,
          "end_time": "2020-11-06T14:52:27.677678",
          "exception": false,
          "start_time": "2020-11-06T14:52:27.087705",
          "status": "completed"
        },
        "tags": [],
        "outputId": "1f604313-14ff-45cd-8107-9d93b3cc5ed7"
      },
      "source": [
        "plt.figure(figsize=(12,6))\n",
        "def show_confusion_matrix(confusion_matrix):\n",
        "  hmap = sns.heatmap(confusion_matrix, annot=True, fmt=\"d\", cmap=\"Blues\")\n",
        "  hmap.yaxis.set_ticklabels(hmap.yaxis.get_ticklabels(),rotation=0, ha='right')\n",
        "  hmap.xaxis.set_ticklabels(hmap.xaxis.get_ticklabels(),rotation=30, ha='right')\n",
        "  plt.ylabel('True sentiment')\n",
        "  plt.xlabel('Predicted sentiment');\n",
        "cm = confusion_matrix(y_test, y_pred)\n",
        "df_cm = pd.DataFrame(cm, index=class_names, columns=class_names)\n",
        "show_confusion_matrix(df_cm)"
      ],
      "execution_count": null,
      "outputs": [
        {
          "output_type": "display_data",
          "data": {
            "image/png": "[encoded data removed]",
            "text/plain": [
              "<Figure size 864x432 with 2 Axes>"
            ]
          },
          "metadata": {
            "tags": [],
            "image/png": {
              "height": 429,
              "width": 764
            }
          }
        }
      ]
    },
    {
      "cell_type": "code",
      "metadata": {
        "execution": {
          "iopub.execute_input": "2020-11-06T14:52:27.869656Z",
          "iopub.status.busy": "2020-11-06T14:52:27.868663Z",
          "iopub.status.idle": "2020-11-06T14:52:27.873836Z",
          "shell.execute_reply": "2020-11-06T14:52:27.873332Z"
        },
        "id": "a1nGlvfXP4zH",
        "papermill": {
          "duration": 0.100898,
          "end_time": "2020-11-06T14:52:27.873959",
          "exception": false,
          "start_time": "2020-11-06T14:52:27.773061",
          "status": "completed"
        },
        "tags": []
      },
      "source": [
        "# Binarize the targets & predictions to plot PR & ROC curves\n",
        "y_test= label_binarize(y_test, classes=[*range(n_classes)])\n",
        "y_pred = label_binarize(y_pred, classes=[*range(n_classes)])"
      ],
      "execution_count": null,
      "outputs": []
    },
    {
      "cell_type": "markdown",
      "metadata": {
        "id": "brf0aWXQKt6u",
        "papermill": {
          "duration": 0.092229,
          "end_time": "2020-11-06T14:52:28.058202",
          "exception": false,
          "start_time": "2020-11-06T14:52:27.965973",
          "status": "completed"
        },
        "tags": []
      },
      "source": [
        "**Plot PR (Precesion-Recall) curve:**"
      ]
    },
    {
      "cell_type": "code",
      "metadata": {
        "execution": {
          "iopub.execute_input": "2020-11-06T14:52:28.250083Z",
          "iopub.status.busy": "2020-11-06T14:52:28.249161Z",
          "iopub.status.idle": "2020-11-06T14:52:28.702634Z",
          "shell.execute_reply": "2020-11-06T14:52:28.703240Z"
        },
        "id": "rh9QYcoFKvZg",
        "papermill": {
          "duration": 0.554982,
          "end_time": "2020-11-06T14:52:28.703390",
          "exception": false,
          "start_time": "2020-11-06T14:52:28.148408",
          "status": "completed"
        },
        "tags": [],
        "outputId": "432be6a5-f815-4494-f379-11058579cc99"
      },
      "source": [
        "# plot model precision-recall curve\n",
        "precision = dict()\n",
        "recall = dict()\n",
        "\n",
        "plt.figure(figsize=(12,6))\n",
        "for i in range(n_classes):\n",
        "    precision[i], recall[i], _ = precision_recall_curve(y_test[:, i],\n",
        "                                                        y_pred[:, i])\n",
        "    plt.plot(recall[i], precision[i], lw=2, label='class {}'.format(i))\n",
        "\n",
        "plt.xlabel(\"recall\")\n",
        "plt.ylabel(\"precision\")\n",
        "plt.legend(loc=\"best\")\n",
        "plt.title(\"precision vs. recall curve\")\n",
        "plt.show()"
      ],
      "execution_count": null,
      "outputs": [
        {
          "output_type": "display_data",
          "data": {
            "image/png": "[encoded data removed]",
            "text/plain": [
              "<Figure size 864x432 with 1 Axes>"
            ]
          },
          "metadata": {
            "tags": [],
            "image/png": {
              "height": 391,
              "width": 727
            }
          }
        }
      ]
    },
    {
      "cell_type": "markdown",
      "metadata": {
        "id": "ua5J41CkNCie",
        "papermill": {
          "duration": 0.092393,
          "end_time": "2020-11-06T14:52:28.889820",
          "exception": false,
          "start_time": "2020-11-06T14:52:28.797427",
          "status": "completed"
        },
        "tags": []
      },
      "source": [
        "**ROC (Receiver operating characterstic) curve**:"
      ]
    },
    {
      "cell_type": "code",
      "metadata": {
        "execution": {
          "iopub.execute_input": "2020-11-06T14:52:29.091216Z",
          "iopub.status.busy": "2020-11-06T14:52:29.090162Z",
          "iopub.status.idle": "2020-11-06T14:52:29.535990Z",
          "shell.execute_reply": "2020-11-06T14:52:29.537350Z"
        },
        "id": "Hz8JoR3fLdZh",
        "papermill": {
          "duration": 0.553232,
          "end_time": "2020-11-06T14:52:29.537585",
          "exception": false,
          "start_time": "2020-11-06T14:52:28.984353",
          "status": "completed"
        },
        "tags": [],
        "outputId": "a86c5542-9f07-4782-a369-8d13b68e9090"
      },
      "source": [
        "# plot roc curve\n",
        "fpr = dict()\n",
        "tpr = dict()\n",
        "\n",
        "plt.figure(figsize=(12,6))\n",
        "for i in range(n_classes):\n",
        "    fpr[i], tpr[i], _ = roc_curve(y_test[:, i],\n",
        "                                  y_pred[:, i])\n",
        "    plt.plot(fpr[i], tpr[i], lw=2, label='class {}'.format(i))\n",
        "\n",
        "plt.xlabel(\"false positive rate\")\n",
        "plt.ylabel(\"true positive rate\")\n",
        "plt.legend(loc=\"best\")\n",
        "plt.title(\"ROC curve\")\n",
        "plt.show()"
      ],
      "execution_count": null,
      "outputs": [
        {
          "output_type": "display_data",
          "data": {
            "image/png": "[encoded data removed]",
            "text/plain": [
              "<Figure size 864x432 with 1 Axes>"
            ]
          },
          "metadata": {
            "tags": [],
            "image/png": {
              "height": 391,
              "width": 727
            }
          }
        }
      ]
    }
  ]
}